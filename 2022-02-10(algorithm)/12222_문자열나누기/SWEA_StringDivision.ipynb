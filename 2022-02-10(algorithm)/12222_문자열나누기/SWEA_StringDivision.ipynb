{
 "cells": [
  {
   "cell_type": "code",
   "execution_count": 11,
   "id": "9a37e149",
   "metadata": {},
   "outputs": [
    {
     "name": "stdout",
     "output_type": "stream",
     "text": [
      "3\n",
      "abcdeff\n",
      "6\n",
      "abcdeeff\n",
      "6\n",
      "asdfghjuytrewa\n",
      "14\n"
     ]
    }
   ],
   "source": [
    "n = int(input())\n",
    "\n",
    "for p in range(n):\n",
    "    inp2 = input()\n",
    "    inp = list(inp2)\n",
    "\n",
    "    cnt1 = 0\n",
    "    cnt2 = 0\n",
    "    for i in range(len(inp)-1):\n",
    "        if inp[i] != inp[i+1]:\n",
    "            if cnt2 == 0:\n",
    "                cnt1 += 1\n",
    "            else:\n",
    "                if cnt2 %3 == 0:\n",
    "                    cnt1 += (cnt2//3)*2\n",
    "                    cnt2 = 0\n",
    "                else:\n",
    "                    cnt1 += (cnt2//3)*2 + 1\n",
    "                    cnt2 = 0\n",
    "        else:\n",
    "            cnt2 += 1\n",
    "\n",
    "        if i == len(inp) - 2 and cnt2 != 0:\n",
    "            if cnt2 == 1:\n",
    "                cnt = 0\n",
    "            \n",
    "            elif cnt2 %3 == 0:\n",
    "                cnt1 += (cnt2//3)*2\n",
    "                cnt2 = 0\n",
    "            \n",
    "            else:\n",
    "                cnt1 += (cnt2//3)*2 + 1\n",
    "                cnt2 = 0\n",
    "    print(cnt1 + 1)"
   ]
  },
  {
   "cell_type": "code",
   "execution_count": null,
   "id": "6c46dfdf",
   "metadata": {},
   "outputs": [],
   "source": [
    "1 - 1\n",
    "2 - 1\n",
    "3 - 2\n",
    "4 - 3\n",
    "5 - 3\n",
    "6 - 4\n",
    "7 - 5\n",
    "8 - 5\n",
    "9 - 6"
   ]
  },
  {
   "cell_type": "code",
   "execution_count": null,
   "id": "b080a215",
   "metadata": {},
   "outputs": [
    {
     "name": "stdout",
     "output_type": "stream",
     "text": [
      "2\n",
      "aabbaaaaa\n",
      "#0 6\n"
     ]
    }
   ],
   "source": [
    "n = int(input())\n",
    "\n",
    "for p in range(n):\n",
    "    inp2 = input()\n",
    "    inp = list(inp2)\n",
    "\n",
    "\n",
    "    q = 0\n",
    "    r = 0\n",
    " \n",
    "    ans = []\n",
    "    ans.append(inp[0])\n",
    "    while q <= len(inp)-2:\n",
    "        if ans[r] != inp[q+1]:\n",
    "            ans.append(inp[q+1])\n",
    "            q += 1\n",
    "            r += 1\n",
    "        else:\n",
    "            ans.append(inp2[q+1:q+3:])\n",
    "            q += 2\n",
    "            r +=1\n",
    "    if ans[-1] == ans[-2]:\n",
    "        num = len(ans) - 1\n",
    "    else :\n",
    "        num = len(ans)\n",
    "    print(f'#{p} {num}')\n",
    "            "
   ]
  },
  {
   "cell_type": "code",
   "execution_count": null,
   "id": "fd110cd0",
   "metadata": {},
   "outputs": [],
   "source": []
  }
 ],
 "metadata": {
  "kernelspec": {
   "display_name": "Python 3 (ipykernel)",
   "language": "python",
   "name": "python3"
  },
  "language_info": {
   "codemirror_mode": {
    "name": "ipython",
    "version": 3
   },
   "file_extension": ".py",
   "mimetype": "text/x-python",
   "name": "python",
   "nbconvert_exporter": "python",
   "pygments_lexer": "ipython3",
   "version": "3.9.9"
  },
  "toc": {
   "base_numbering": 1,
   "nav_menu": {},
   "number_sections": true,
   "sideBar": true,
   "skip_h1_title": false,
   "title_cell": "Table of Contents",
   "title_sidebar": "Contents",
   "toc_cell": false,
   "toc_position": {},
   "toc_section_display": true,
   "toc_window_display": false
  }
 },
 "nbformat": 4,
 "nbformat_minor": 5
}
