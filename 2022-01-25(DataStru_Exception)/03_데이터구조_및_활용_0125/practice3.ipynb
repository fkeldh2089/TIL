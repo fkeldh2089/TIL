{
 "cells": [
  {
   "cell_type": "markdown",
   "metadata": {},
   "source": [
    "# Practice 3\n",
    "\n",
    "> 자료 구조 "
   ]
  },
  {
   "cell_type": "markdown",
   "metadata": {},
   "source": [
    "## 썩은 과일 찾기\n",
    "\n",
    "> 과수원에 농부 한명이 썩은 과일이 몇개 들어있는 과일 봉지를 가지고 있다. (과일 봉지는 리스트를 의미한다.)\n",
    ">\n",
    "> 썩은 과일 조각들을 모두 신선한 것으로 교체하는 함수 `change_rotten_fruit()`를 작성하시오. \n",
    ">\n",
    "> 예를 들어,\n",
    "- `['apple', 'rottenBanana', 'apple']` 이라는 리스트가 주어진 경우, 대체된 리스트는 `['apple', 'banana', 'apple']` 이어야 한다. \n",
    ">\n",
    ">\n",
    "> **유의**\n",
    "- 만약 리스트가 null/nil/None이거나 비어 있는 경우 빈 리스트를 반환한다.\n",
    "- 반환된 리스트의 요소는 모두 소문자여야 한다.\n",
    "\n",
    "---\n",
    "\n",
    "예시)\n",
    "\n",
    "```python\n",
    "change_rotten_fruit(['apple', 'rottenBanana', 'apple']) \n",
    "#=> ['apple', 'banana', 'apple']\n",
    "\n",
    "change_rotten_fruit(['rottenapple', 'rottenBanana', 'apple', 'rottenGrape']) \n",
    "#=> ['apple', 'banana', 'apple', 'grape']\n",
    "```"
   ]
  },
  {
   "cell_type": "code",
   "execution_count": 54,
   "metadata": {},
   "outputs": [],
   "source": [
    "def change_rotten_fruit(fruit_bag):\n",
    "    new_fg = fruit_bag[::]\n",
    "    \n",
    "    for i in range(len(fruit_bag)):\n",
    "        if len(fruit_bag[i]) >= 6: # rotten 포함시 6자리는 넘음\n",
    "            if fruit_bag[i][:6:1] == 'rotten':\n",
    "                new_fg[i] = new_fg[i].lstrip('rotten').lower()\n",
    "    return new_fg\n",
    "\n",
    "\n",
    "\n",
    "            "
   ]
  },
  {
   "cell_type": "code",
   "execution_count": 55,
   "metadata": {},
   "outputs": [
    {
     "name": "stdout",
     "output_type": "stream",
     "text": [
      "['apple', 'Banana', 'apple']\n"
     ]
    }
   ],
   "source": [
    "a = ['apple', 'rottenBanana', 'apple']\n",
    "a[1] = a[1].lstrip('rotten')\n",
    "print(a)"
   ]
  },
  {
   "cell_type": "code",
   "execution_count": 58,
   "metadata": {},
   "outputs": [
    {
     "name": "stdout",
     "output_type": "stream",
     "text": [
      "['apple', 'banana', 'apple']\n",
      "['apple', 'banana', 'apple', 'grape']\n"
     ]
    },
    {
     "ename": "NameError",
     "evalue": "name 'null' is not defined",
     "output_type": "error",
     "traceback": [
      "\u001b[1;31m---------------------------------------------------------------------------\u001b[0m",
      "\u001b[1;31mNameError\u001b[0m                                 Traceback (most recent call last)",
      "Input \u001b[1;32mIn [58]\u001b[0m, in \u001b[0;36m<module>\u001b[1;34m\u001b[0m\n\u001b[0;32m      2\u001b[0m \u001b[38;5;28mprint\u001b[39m(change_rotten_fruit([\u001b[38;5;124m'\u001b[39m\u001b[38;5;124mapple\u001b[39m\u001b[38;5;124m'\u001b[39m, \u001b[38;5;124m'\u001b[39m\u001b[38;5;124mrottenBanana\u001b[39m\u001b[38;5;124m'\u001b[39m, \u001b[38;5;124m'\u001b[39m\u001b[38;5;124mapple\u001b[39m\u001b[38;5;124m'\u001b[39m] ))\n\u001b[0;32m      3\u001b[0m \u001b[38;5;28mprint\u001b[39m(change_rotten_fruit([\u001b[38;5;124m'\u001b[39m\u001b[38;5;124mrottenapple\u001b[39m\u001b[38;5;124m'\u001b[39m, \u001b[38;5;124m'\u001b[39m\u001b[38;5;124mrottenBanana\u001b[39m\u001b[38;5;124m'\u001b[39m, \u001b[38;5;124m'\u001b[39m\u001b[38;5;124mapple\u001b[39m\u001b[38;5;124m'\u001b[39m, \u001b[38;5;124m'\u001b[39m\u001b[38;5;124mrottenGrape\u001b[39m\u001b[38;5;124m'\u001b[39m]))\n\u001b[1;32m----> 4\u001b[0m \u001b[38;5;28mprint\u001b[39m(change_rotten_fruit([\u001b[43mnull\u001b[49m]))\n",
      "\u001b[1;31mNameError\u001b[0m: name 'null' is not defined"
     ]
    }
   ],
   "source": [
    "# 해당 코드를 통해 올바른 결과가 나오는지 확인하시오.\n",
    "print(change_rotten_fruit(['apple', 'rottenBanana', 'apple'] ))\n",
    "print(change_rotten_fruit(['rottenapple', 'rottenBanana', 'apple', 'rottenGrape']))\n",
    "print(change_rotten_fruit())"
   ]
  },
  {
   "cell_type": "markdown",
   "metadata": {},
   "source": [
    "## 중복되지 않은 숫자의 합\n",
    "\n",
    "> 같은 숫자가 한개 있거나 두개가 들어있는 리스트가 주어진다. 이러한 리스트에서 숫자가 한개만 있는 요소들의 합을 구하는 함수 `sum_of_repeat_number()`를 작성하시오.\n",
    ">\n",
    "> 예를 들어, `[4, 5, 7, 5, 4, 8]`는 7과 8이 한번만 나오기 때문에 두개를 더한 15가 결과값으로 도출된다.\n",
    "\n",
    "---\n",
    "\n",
    "예시)\n",
    "\n",
    "```python\n",
    "sum_of_repeat_number([4, 4, 7, 8, 10]) # => 25\n",
    "```\n"
   ]
  },
  {
   "cell_type": "code",
   "execution_count": 51,
   "metadata": {},
   "outputs": [],
   "source": [
    "def sum_of_repeat_number(numbers):\n",
    "    sum1 = 0\n",
    "    for i in numbers:\n",
    "        if numbers.count(i) == 1:\n",
    "            sum1 += i\n",
    "    \n",
    "    return sum1"
   ]
  },
  {
   "cell_type": "code",
   "execution_count": 52,
   "metadata": {},
   "outputs": [
    {
     "name": "stdout",
     "output_type": "stream",
     "text": [
      "25\n"
     ]
    }
   ],
   "source": [
    "# 해당 코드를 통해 올바른 결과가 나오는지 확인하시오.\n",
    "print(sum_of_repeat_number([4, 4, 7, 8, 10]))"
   ]
  },
  {
   "cell_type": "code",
   "execution_count": null,
   "metadata": {},
   "outputs": [],
   "source": []
  }
 ],
 "metadata": {
  "kernelspec": {
   "display_name": "Python 3 (ipykernel)",
   "language": "python",
   "name": "python3"
  },
  "language_info": {
   "codemirror_mode": {
    "name": "ipython",
    "version": 3
   },
   "file_extension": ".py",
   "mimetype": "text/x-python",
   "name": "python",
   "nbconvert_exporter": "python",
   "pygments_lexer": "ipython3",
   "version": "3.9.9"
  },
  "toc": {
   "base_numbering": 1,
   "nav_menu": {},
   "number_sections": true,
   "sideBar": true,
   "skip_h1_title": false,
   "title_cell": "Table of Contents",
   "title_sidebar": "Contents",
   "toc_cell": false,
   "toc_position": {
    "height": "calc(100% - 180px)",
    "left": "10px",
    "top": "150px",
    "width": "341.458px"
   },
   "toc_section_display": true,
   "toc_window_display": true
  }
 },
 "nbformat": 4,
 "nbformat_minor": 4
}
