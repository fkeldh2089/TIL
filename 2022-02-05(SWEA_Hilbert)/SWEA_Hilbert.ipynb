{
 "cells": [
  {
   "cell_type": "code",
   "execution_count": 54,
   "id": "3dff0f8c",
   "metadata": {},
   "outputs": [],
   "source": [
    "def hilbert_position(n, a):\n",
    "    if n == 1:\n",
    "        if a == 1:\n",
    "            return [0, 0] # 튜플보다는 리스트가 계산하기 편하다.\n",
    "        elif a == 2:\n",
    "            return [1, 0]\n",
    "        elif a == 3:\n",
    "            return [1, -1]\n",
    "        elif a == 4:\n",
    "            return [0, -1]\n",
    "    elif n > 1:\n",
    "        offset_H = 0\n",
    "        each_H = 0\n",
    "        new_position = []\n",
    "        if a <= (4**(n - 1)): # 좌상단\n",
    "            pass\n",
    "        \n",
    "        elif a <= (2*4**(n -1)): # 우상단\n",
    "            offset_H += 2**(n - 1) # 좌표의 경우, n이 1증가시 2배 되므로,,,\n",
    "            each_H += 4**(n - 1) # 개수의 경우 n이1 증가시 4배가 된다.\n",
    "            new_position = hilbert_position(n - 1, a - each_H) # n-1차 힐베르트 곡선에서 생각\n",
    "            return [(new_position[0] + offset_H), new_position[1]] # offset만큼 우로 이동해야 같다고 볼 수 있음\n",
    "        \n",
    "        elif a <= (4**(n)): # 우하단\n",
    "            offset_H += 2**(n - 1)\n",
    "            each_H += 2*4**(n - 1) # 우하단의 경우 우상단의 2배의 집을 지나쳐 옴\n",
    "            #print(each_H)\n",
    "            new_position = hilbert_position(n - 1, a - each_H) # n-1차 힐베르트 곡선에서 생각\n",
    "            return [(new_position[0] + offset_H), (new_position[1] - offset_H)]  # 대각선 좌하단으로 이동해야 함\n",
    "        elif a <= (2*4**n): # 좌하단\n",
    "            pass"
   ]
  },
  {
   "cell_type": "code",
   "execution_count": 56,
   "id": "f4f5ad70",
   "metadata": {},
   "outputs": [
    {
     "name": "stdout",
     "output_type": "stream",
     "text": [
      "#1 [3, 0]\n",
      "#2 [3, -3]\n",
      "#3 [7, 0]\n",
      "#4 [7, -4]\n"
     ]
    }
   ],
   "source": [
    "print(f'#1 {hilbert_position(2, 6)}')\n",
    "print(f'#2 {hilbert_position(2, 11)}')\n",
    "print(f'#3 {hilbert_position(3, 22)}')\n",
    "print(f'#4 {hilbert_position(3, 38)}')"
   ]
  },
  {
   "cell_type": "code",
   "execution_count": 67,
   "id": "7f6159c1",
   "metadata": {},
   "outputs": [],
   "source": [
    "def hilbert_position(n, a):\n",
    "    if n == 1:\n",
    "        if a == 1:\n",
    "            return [0, 0] # 튜플보다는 리스트가 계산하기 편하다.\n",
    "        elif a == 2:\n",
    "            return [1, 0]\n",
    "        elif a == 3:\n",
    "            return [1, -1]\n",
    "        elif a == 4:\n",
    "            return [0, -1]\n",
    "    elif n > 1:\n",
    "        offset_H = 0\n",
    "        each_H = 0\n",
    "        new_position = []\n",
    "        if a <= (4**(n - 1)): # 좌상단\n",
    "            new_position = hilbert_position(n-1, a) #\n",
    "            return [-new_position[1], -new_position[0]]\n",
    "            \n",
    "        \n",
    "        elif a <= (2*4**(n -1)): # 우상단\n",
    "            offset_H += 2**(n - 1) # 좌표의 경우, n이 1증가시 2배 되므로,,,\n",
    "            each_H += 4**(n - 1) # 개수의 경우 n이1 증가시 4배가 된다.\n",
    "            new_position = hilbert_position(n - 1, a - each_H) # n-1차 힐베르트 곡선에서 생각\n",
    "            return [(new_position[0] + offset_H), new_position[1]] # offset만큼 우로 이동해야 같다고 볼 수 있음\n",
    "        \n",
    "        elif a <= (3*4**(n - 1)): # 우하단\n",
    "            offset_H += 2**(n - 1)\n",
    "            each_H += 2*4**(n - 1) # 우하단의 경우 우상단의 2배의 집을 지나쳐 옴\n",
    "            #print(each_H)\n",
    "            new_position = hilbert_position(n - 1, a - each_H) # n-1차 힐베르트 곡선에서 생각\n",
    "            return [(new_position[0] + offset_H), (new_position[1] - offset_H)]  # 대각선 좌하단으로 이동해야 함\n",
    "        elif a <= (4**n): # 좌하단\n",
    "            pass"
   ]
  },
  {
   "cell_type": "code",
   "execution_count": 68,
   "id": "c7cad197",
   "metadata": {},
   "outputs": [
    {
     "name": "stdout",
     "output_type": "stream",
     "text": [
      "#1 [2, 0]\n",
      "#2 [3, -3]\n",
      "#3 [4, -1]\n",
      "#4 [4, -5]\n"
     ]
    }
   ],
   "source": [
    "print(f'#1 {hilbert_position(2, 5)}')\n",
    "print(f'#2 {hilbert_position(2, 11)}')\n",
    "print(f'#3 {hilbert_position(3, 18)}')\n",
    "print(f'#4 {hilbert_position(3, 34)}')"
   ]
  },
  {
   "cell_type": "code",
   "execution_count": 82,
   "id": "c0d2dc14",
   "metadata": {},
   "outputs": [],
   "source": [
    "def hilbert_position(n, a):\n",
    "    if n == 1:\n",
    "        if a == 1:\n",
    "            return [0, 0] # 튜플보다는 리스트가 계산하기 편하다.\n",
    "        elif a == 2:\n",
    "            return [1, 0]\n",
    "        elif a == 3:\n",
    "            return [1, -1]\n",
    "        elif a == 4:\n",
    "            return [0, -1]\n",
    "    elif n > 1:\n",
    "        offset_H = 0\n",
    "        each_H = 0\n",
    "        new_position = []\n",
    "        if a <= (4**(n - 1)): # 좌상단\n",
    "            new_position = hilbert_position(n-1, a) #\n",
    "            return [-new_position[1], -new_position[0]]\n",
    "            \n",
    "        \n",
    "        elif a <= (2*4**(n -1)): # 우상단\n",
    "            offset_H += 2**(n - 1) # 좌표의 경우, n이 1증가시 2배 되므로,,,\n",
    "            each_H += 4**(n - 1) # 개수의 경우 n이1 증가시 4배가 된다.\n",
    "            new_position = hilbert_position(n - 1, a - each_H) # n-1차 힐베르트 곡선에서 생각\n",
    "            return [(new_position[0] + offset_H), new_position[1]] # offset만큼 우로 이동해야 같다고 볼 수 있음\n",
    "        \n",
    "        elif a <= (3*4**(n - 1)): # 우하단\n",
    "            offset_H += 2**(n - 1)\n",
    "            each_H += 2*4**(n - 1) # 우하단의 경우 우상단의 2배의 집을 지나쳐 옴\n",
    "            #print(each_H)\n",
    "            new_position = hilbert_position(n - 1, a - each_H) # n-1차 힐베르트 곡선에서 생각\n",
    "            return [(new_position[0] + offset_H), (new_position[1] - offset_H)]  # 대각선 좌하단으로 이동해야 함\n",
    "        elif a <= (4**n): # 좌하단\n",
    "            tmp_x = 0\n",
    "            tmp_y = 0\n",
    "            offset_H = 2**(n - 1)\n",
    "            each_H += 3*4**(n - 1)\n",
    "            new_position = hilbert_position(n, a - each_H)\n",
    "            tmp_x = (2**(n - 2) - 0.5) - new_position[0]\n",
    "            tmp_y = -(2**(n - 2) - 0.5) - new_position[1]\n",
    "\n",
    "            return [int(new_position[0] + 2*tmp_x), int(new_position[1] + 2*tmp_y - offset_H)]"
   ]
  },
  {
   "cell_type": "code",
   "execution_count": 83,
   "id": "28a674d2",
   "metadata": {},
   "outputs": [
    {
     "name": "stdout",
     "output_type": "stream",
     "text": [
      "#1 [0, -2]\n",
      "#2 [2, -3]\n",
      "#3 [3, -4]\n",
      "#4 [2, -6]\n"
     ]
    }
   ],
   "source": [
    "print(f'#1 {hilbert_position(2, 15)}')\n",
    "print(f'#2 {hilbert_position(2, 12)}')\n",
    "print(f'#3 {hilbert_position(3, 54)}')\n",
    "print(f'#4 {hilbert_position(3, 51)}')"
   ]
  },
  {
   "cell_type": "code",
   "execution_count": 87,
   "id": "ccbb2ded",
   "metadata": {},
   "outputs": [
    {
     "data": {
      "text/plain": [
       "2.0"
      ]
     },
     "execution_count": 87,
     "metadata": {},
     "output_type": "execute_result"
    }
   ],
   "source": [
    "4**(1/2)"
   ]
  },
  {
   "cell_type": "code",
   "execution_count": 101,
   "id": "f207609b",
   "metadata": {},
   "outputs": [
    {
     "name": "stdout",
     "output_type": "stream",
     "text": [
      "3\n",
      "1 1 2\n",
      "[0, 0] [1, 0]\n",
      "#1 10\n",
      "2 16 1\n",
      "[0, -3] [0, 0]\n",
      "#2 30\n",
      "3 4 33\n",
      "[0, -1] [4, -4]\n",
      "#3 50\n"
     ]
    }
   ],
   "source": [
    "# 함수부\n",
    "def hilbert_position(n, a):\n",
    "    if n == 1:\n",
    "        if a == 1:\n",
    "            return [0, 0] # 튜플보다는 리스트가 계산하기 편하다.\n",
    "        elif a == 2:\n",
    "            return [1, 0]\n",
    "        elif a == 3:\n",
    "            return [1, -1]\n",
    "        elif a == 4:\n",
    "            return [0, -1]\n",
    "    elif n > 1:\n",
    "        offset_H = 0\n",
    "        each_H = 0\n",
    "        new_position = []\n",
    "        if a <= (4**(n - 1)): # 좌상단\n",
    "            new_position = hilbert_position(n-1, a) #\n",
    "            return [-new_position[1], -new_position[0]]\n",
    "            \n",
    "        \n",
    "        elif a <= (2*4**(n -1)): # 우상단\n",
    "            offset_H += 2**(n - 1) # 좌표의 경우, n이 1증가시 2배 되므로,,,\n",
    "            each_H += 4**(n - 1) # 개수의 경우 n이1 증가시 4배가 된다.\n",
    "            new_position = hilbert_position(n - 1, a - each_H) # n-1차 힐베르트 곡선에서 생각\n",
    "            return [(new_position[0] + offset_H), new_position[1]] # offset만큼 우로 이동해야 같다고 볼 수 있음\n",
    "        \n",
    "        elif a <= (3*4**(n - 1)): # 우하단\n",
    "            offset_H += 2**(n - 1)\n",
    "            each_H += 2*4**(n - 1) # 우하단의 경우 우상단의 2배의 집을 지나쳐 옴\n",
    "            #print(each_H)\n",
    "            new_position = hilbert_position(n - 1, a - each_H) # n-1차 힐베르트 곡선에서 생각\n",
    "            return [(new_position[0] + offset_H), (new_position[1] - offset_H)]  # 대각선 좌하단으로 이동해야 함\n",
    "        elif a <= (4**n): # 좌하단\n",
    "            tmp_x = 0 # 대칭이동 시키기 위한 변수\n",
    "            tmp_y = 0\n",
    "            offset_H = 2**(n - 1)\n",
    "            each_H += 3*4**(n - 1)\n",
    "            new_position = hilbert_position(n, a - each_H)\n",
    "            tmp_x = (2**(n - 2) - 0.5) - new_position[0] # 대칭 이동하기 위한 계산\n",
    "            tmp_y = -(2**(n - 2) - 0.5) - new_position[1]\n",
    "\n",
    "            return [int(new_position[0] + 2*tmp_x), int(new_position[1] + 2*tmp_y - offset_H)] # 대칭 이동 시키고 offset 더해줌, float형이 되므로 int로 변환\n",
    "        \n",
    "def distant_H(pos1, pos2):\n",
    "    ans = 0\n",
    "    ans = ((pos1[0] - pos2[0])**2 + (pos1[1] - pos2[1])**2)**(1/2)*10 # 한 칸단 10m\n",
    "    ans = int(round(ans, 0))\n",
    "    return ans \n",
    "\n",
    "\n",
    "# 입력부\n",
    "num1 = int(input())\n",
    "for p in range(num1):\n",
    "    inp_num = input().split()\n",
    "    n = int(inp_num[0])\n",
    "    a = int(inp_num[1])\n",
    "    b = int(inp_num[2])\n",
    "    \n",
    "    pos1 = hilbert_position(n, a)\n",
    "    pos2 = hilbert_position(n, b)\n",
    "    ans = distant_H(pos1, pos2)\n",
    "    \n",
    "    print(f'#{p+1} {ans}')\n",
    "\n",
    "      "
   ]
  },
  {
   "cell_type": "code",
   "execution_count": 100,
   "id": "48e43713",
   "metadata": {},
   "outputs": [
    {
     "name": "stdout",
     "output_type": "stream",
     "text": [
      "51.0\n"
     ]
    }
   ],
   "source": [
    "a= 50.89\n",
    "b = round(a, 0)\n",
    "print(b)"
   ]
  },
  {
   "cell_type": "code",
   "execution_count": null,
   "id": "e466ede3",
   "metadata": {},
   "outputs": [],
   "source": []
  }
 ],
 "metadata": {
  "kernelspec": {
   "display_name": "Python 3 (ipykernel)",
   "language": "python",
   "name": "python3"
  },
  "language_info": {
   "codemirror_mode": {
    "name": "ipython",
    "version": 3
   },
   "file_extension": ".py",
   "mimetype": "text/x-python",
   "name": "python",
   "nbconvert_exporter": "python",
   "pygments_lexer": "ipython3",
   "version": "3.9.9"
  },
  "toc": {
   "base_numbering": 1,
   "nav_menu": {},
   "number_sections": true,
   "sideBar": true,
   "skip_h1_title": false,
   "title_cell": "Table of Contents",
   "title_sidebar": "Contents",
   "toc_cell": false,
   "toc_position": {},
   "toc_section_display": true,
   "toc_window_display": false
  }
 },
 "nbformat": 4,
 "nbformat_minor": 5
}
