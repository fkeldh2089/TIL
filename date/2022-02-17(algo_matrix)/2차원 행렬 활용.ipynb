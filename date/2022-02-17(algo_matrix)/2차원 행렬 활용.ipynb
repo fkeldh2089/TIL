{
 "cells": [
  {
   "cell_type": "code",
   "execution_count": 11,
   "id": "a6c97557",
   "metadata": {},
   "outputs": [],
   "source": [
    "lst = [[1,2,3],[4,5,6],[7,8,9]]"
   ]
  },
  {
   "cell_type": "code",
   "execution_count": 12,
   "id": "7e3534b7",
   "metadata": {},
   "outputs": [],
   "source": [
    "# 전치\n",
    "# zip으로 엮으면 튜플이 되니깐, map으로 리스트로 만들어준다.\n",
    "lst = list(map(list, zip(*lst)))"
   ]
  },
  {
   "cell_type": "code",
   "execution_count": 14,
   "id": "4684b034",
   "metadata": {},
   "outputs": [
    {
     "name": "stdout",
     "output_type": "stream",
     "text": [
      "[1, 4, 7] [2, 5, 8] [3, 6, 9]\n"
     ]
    }
   ],
   "source": [
    "print(*lst)"
   ]
  },
  {
   "cell_type": "code",
   "execution_count": 18,
   "id": "02b18c3b",
   "metadata": {},
   "outputs": [
    {
     "name": "stdout",
     "output_type": "stream",
     "text": [
      "[9, 6, 3] [8, 5, 2] [7, 4, 1]\n"
     ]
    }
   ],
   "source": [
    "# 점대칭\n",
    "lst = [[1,2,3],[4,5,6],[7,8,9]]\n",
    "lst = list(map(list, zip(*lst[::-1])))[::-1]\n",
    "print(*lst)"
   ]
  },
  {
   "cell_type": "code",
   "execution_count": 19,
   "id": "921eabfc",
   "metadata": {},
   "outputs": [
    {
     "name": "stdout",
     "output_type": "stream",
     "text": [
      "[7, 4, 1] [8, 5, 2] [9, 6, 3]\n"
     ]
    }
   ],
   "source": [
    "# 오른쪽 90도\n",
    "lst = [[1,2,3],[4,5,6],[7,8,9]]\n",
    "lst = list(map(list, zip(*lst[::-1])))\n",
    "print(*lst)"
   ]
  },
  {
   "cell_type": "code",
   "execution_count": 21,
   "id": "b10da839",
   "metadata": {},
   "outputs": [
    {
     "name": "stdout",
     "output_type": "stream",
     "text": [
      "[3, 6, 9, 12] [2, 5, 8, 11] [1, 4, 7, 10]\n"
     ]
    }
   ],
   "source": [
    "# 왼쪽 90도\n",
    "lst = [[1,2,3],[4,5,6],[7,8,9], [10, 11, 12]]\n",
    "lst = list(map(list, zip(*lst)))[::-1]\n",
    "print(*lst)"
   ]
  },
  {
   "cell_type": "code",
   "execution_count": 38,
   "id": "10fdea4d",
   "metadata": {},
   "outputs": [
    {
     "name": "stdout",
     "output_type": "stream",
     "text": [
      "[['a'], ['p'], ['p'], ['l'], ['e']]\n"
     ]
    }
   ],
   "source": [
    "# 문자열 unpack\n",
    "a = 'apple'\n",
    "li = []\n",
    "print(list(map(list, *a.split())))"
   ]
  },
  {
   "cell_type": "code",
   "execution_count": null,
   "id": "6801706d",
   "metadata": {},
   "outputs": [],
   "source": []
  }
 ],
 "metadata": {
  "kernelspec": {
   "display_name": "Python 3 (ipykernel)",
   "language": "python",
   "name": "python3"
  },
  "language_info": {
   "codemirror_mode": {
    "name": "ipython",
    "version": 3
   },
   "file_extension": ".py",
   "mimetype": "text/x-python",
   "name": "python",
   "nbconvert_exporter": "python",
   "pygments_lexer": "ipython3",
   "version": "3.9.9"
  },
  "toc": {
   "base_numbering": 1,
   "nav_menu": {},
   "number_sections": true,
   "sideBar": true,
   "skip_h1_title": false,
   "title_cell": "Table of Contents",
   "title_sidebar": "Contents",
   "toc_cell": false,
   "toc_position": {},
   "toc_section_display": true,
   "toc_window_display": false
  }
 },
 "nbformat": 4,
 "nbformat_minor": 5
}
