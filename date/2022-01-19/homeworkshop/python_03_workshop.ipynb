{
 "cells": [
  {
   "cell_type": "code",
   "execution_count": 5,
   "id": "d2d392e4",
   "metadata": {},
   "outputs": [
    {
     "name": "stdout",
     "output_type": "stream",
     "text": [
      "1 2 3 4 5\n",
      "[1, 2, 3, 4, 5]\n",
      "15\n"
     ]
    }
   ],
   "source": [
    "# 1. List의 합 구하기\n",
    "\n",
    "numbers = list(map(int, input().split()))\n",
    "\n",
    "def list_sum(n):\n",
    "    Hab = 0\n",
    "    for i in n:\n",
    "        Hab += i\n",
    "    return Hab\n",
    "\n",
    "print(numbers)\n",
    "print(list_sum(numbers))"
   ]
  },
  {
   "cell_type": "code",
   "execution_count": 15,
   "id": "05bedb4f",
   "metadata": {},
   "outputs": [
    {
     "data": {
      "text/plain": [
       "16"
      ]
     },
     "execution_count": 15,
     "metadata": {},
     "output_type": "execute_result"
    }
   ],
   "source": [
    "# 2. Dictionary로 이루어진 List의 합 구하기\n",
    "\n",
    "def dict_list_sum(n):\n",
    "    Hab = 0\n",
    "    for i in n:\n",
    "        Hab += i['age'] # i는 각각의 dictionary\n",
    "    return Hab\n",
    "\n",
    "dict_list_sum([{'name': 'kim', 'age' : 12}, {'name': 'lee', 'age' : 4}])"
   ]
  },
  {
   "cell_type": "code",
   "execution_count": 19,
   "id": "e9cc3e6d",
   "metadata": {},
   "outputs": [
    {
     "name": "stdout",
     "output_type": "stream",
     "text": [
      "[1, 5, 15, 34]\n"
     ]
    },
    {
     "data": {
      "text/plain": [
       "55"
      ]
     },
     "execution_count": 19,
     "metadata": {},
     "output_type": "execute_result"
    }
   ],
   "source": [
    "# 3. 2차원 List의 전체 합 구하기\n",
    "\n",
    "def all_list_sum(n):\n",
    "    Hab_a = []\n",
    "    Hab_b = 0\n",
    "    \n",
    "    for i in n:\n",
    "        Hab = 0\n",
    "        for p in i:\n",
    "            Hab += p\n",
    "        Hab_a.append(Hab)\n",
    "            \n",
    "    for i in Hab_a:\n",
    "        Hab_b += i\n",
    "\n",
    "    print(Hab_a)\n",
    "    return Hab_b   \n",
    "    \n",
    "\n",
    "all_list_sum([[1], [2, 3], [4, 5, 6], [7, 8, 9, 10]])"
   ]
  },
  {
   "cell_type": "code",
   "execution_count": 16,
   "id": "bd8c5ffe",
   "metadata": {},
   "outputs": [
    {
     "name": "stdout",
     "output_type": "stream",
     "text": [
      "{'name': 'kim', 'age': 12}\n",
      "{'name': 'lee', 'age': 4}\n"
     ]
    },
    {
     "data": {
      "text/plain": [
       "0"
      ]
     },
     "execution_count": 16,
     "metadata": {},
     "output_type": "execute_result"
    }
   ],
   "source": []
  },
  {
   "cell_type": "code",
   "execution_count": null,
   "id": "6dd60c8d",
   "metadata": {},
   "outputs": [],
   "source": []
  }
 ],
 "metadata": {
  "kernelspec": {
   "display_name": "Python 3 (ipykernel)",
   "language": "python",
   "name": "python3"
  },
  "language_info": {
   "codemirror_mode": {
    "name": "ipython",
    "version": 3
   },
   "file_extension": ".py",
   "mimetype": "text/x-python",
   "name": "python",
   "nbconvert_exporter": "python",
   "pygments_lexer": "ipython3",
   "version": "3.9.9"
  },
  "toc": {
   "base_numbering": 1,
   "nav_menu": {},
   "number_sections": true,
   "sideBar": true,
   "skip_h1_title": false,
   "title_cell": "Table of Contents",
   "title_sidebar": "Contents",
   "toc_cell": false,
   "toc_position": {},
   "toc_section_display": true,
   "toc_window_display": false
  }
 },
 "nbformat": 4,
 "nbformat_minor": 5
}
