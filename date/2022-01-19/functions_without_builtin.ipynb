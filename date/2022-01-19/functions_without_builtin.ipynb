{
 "cells": [
  {
   "cell_type": "code",
   "execution_count": 5,
   "id": "3f7ac540",
   "metadata": {},
   "outputs": [
    {
     "name": "stdout",
     "output_type": "stream",
     "text": [
      "5\n"
     ]
    }
   ],
   "source": [
    "# max 구현\n",
    "\n",
    "num = [1, 2, 3, 4, 5]\n",
    "#mn = num[0]\n",
    "mn = float('-inf')\n",
    "\n",
    "for i in num:\n",
    "    if i >= mn:\n",
    "        mn = i\n",
    "\n",
    "print(mn)"
   ]
  },
  {
   "cell_type": "code",
   "execution_count": 6,
   "id": "5911a0a5",
   "metadata": {},
   "outputs": [
    {
     "name": "stdout",
     "output_type": "stream",
     "text": [
      "1\n"
     ]
    }
   ],
   "source": [
    "# min 구현\n",
    "\n",
    "num = [1, 2, 3, 4, 5]\n",
    "#mn = num[0]\n",
    "mn = float('inf')\n",
    "\n",
    "for i in num:\n",
    "    if i <= mn:\n",
    "        mn = i\n",
    "\n",
    "print(mn)"
   ]
  },
  {
   "cell_type": "code",
   "execution_count": 7,
   "id": "b69db8e3",
   "metadata": {},
   "outputs": [
    {
     "name": "stdout",
     "output_type": "stream",
     "text": [
      "15\n"
     ]
    }
   ],
   "source": [
    "# sum 구현\n",
    "\n",
    "num = [1, 2, 3, 4, 5]\n",
    "sn = 0\n",
    "\n",
    "for i in num:\n",
    "    sn += i\n",
    "    \n",
    "print(sn)"
   ]
  },
  {
   "cell_type": "code",
   "execution_count": 8,
   "id": "47863846",
   "metadata": {},
   "outputs": [
    {
     "name": "stdout",
     "output_type": "stream",
     "text": [
      "5\n"
     ]
    }
   ],
   "source": [
    "# len 구현\n",
    "\n",
    "num = [1, 2, 3, 4, 5]\n",
    "ln = 0\n",
    "\n",
    "for i in num:\n",
    "    ln += 1\n",
    "    \n",
    "print(ln)"
   ]
  },
  {
   "cell_type": "code",
   "execution_count": 9,
   "id": "7969a5e4",
   "metadata": {},
   "outputs": [
    {
     "name": "stdout",
     "output_type": "stream",
     "text": [
      "정렬 : [11, 22, 23, 24, 24, 25, 31, 38, 49, 49, 51, 52, 60, 60, 61, 63, 64, 65, 66, 67, 68, 69, 71, 72, 80, 80, 83, 85, 87, 90, 94, 96, 99]\n",
      "64\n"
     ]
    }
   ],
   "source": [
    "# 2. sort/중간값 찾기\n",
    "numbers = [\n",
    "    85, 72, 38, 80, 69, 65, 68, 96, 22, 49, 67, 51, 61, 63, 87, 66, 24, 80, 83, 71, 60, 64, 52, 90, 60, 49, 31, 23, 99, 94, 11, 25, 24\n",
    "]\n",
    "k = 1\n",
    "l = len(numbers)\n",
    "\n",
    "while(k):\n",
    "    for i in range(len(numbers)-1):\n",
    "        if numbers[i] > numbers[i + 1]:\n",
    "            numbers[i], numbers[i + 1] = numbers[i + 1], numbers[i]\n",
    "\n",
    "    for p in range(len(numbers) - 1):\n",
    "        if numbers[p] > numbers[p + 1]:\n",
    "            k = 1\n",
    "            break\n",
    "    else:\n",
    "        k = 0\n",
    "\n",
    "print(f'정렬 : {numbers}')\n",
    "\n",
    "\n",
    "if l%2:\n",
    "    print(numbers[l//2])\n",
    "else:\n",
    "    print((numbers[l//2]+numbers[l//2 - 1])/2)"
   ]
  },
  {
   "cell_type": "code",
   "execution_count": 11,
   "id": "e96ddaf0",
   "metadata": {},
   "outputs": [
    {
     "name": "stdout",
     "output_type": "stream",
     "text": [
      "a\n",
      "None\n"
     ]
    }
   ],
   "source": [
    "print(print(\"a\"))#왜 이렇게 나올까 a가 왜 나오지"
   ]
  },
  {
   "cell_type": "code",
   "execution_count": 13,
   "id": "d7b672aa",
   "metadata": {},
   "outputs": [
    {
     "name": "stdout",
     "output_type": "stream",
     "text": [
      "<class 'int'>\n",
      "<class 'tuple'>\n"
     ]
    }
   ],
   "source": [
    "def add(x, *arg):\n",
    "    print(type(x))\n",
    "    print(type(arg))\n",
    "add(1,2,3,4)"
   ]
  },
  {
   "cell_type": "code",
   "execution_count": 15,
   "id": "38266f7a",
   "metadata": {},
   "outputs": [
    {
     "name": "stdout",
     "output_type": "stream",
     "text": [
      "{'father': '불꽃고리', 'son': '쉣'}\n",
      "<class 'dict'>\n"
     ]
    }
   ],
   "source": [
    "\n",
    "def add(**arg):\n",
    "    print(arg)\n",
    "    print(type(arg))\n",
    "add(father = '불꽃고리', son = '쉣')"
   ]
  },
  {
   "cell_type": "code",
   "execution_count": null,
   "id": "c38e32b2",
   "metadata": {},
   "outputs": [],
   "source": []
  }
 ],
 "metadata": {
  "kernelspec": {
   "display_name": "Python 3 (ipykernel)",
   "language": "python",
   "name": "python3"
  },
  "language_info": {
   "codemirror_mode": {
    "name": "ipython",
    "version": 3
   },
   "file_extension": ".py",
   "mimetype": "text/x-python",
   "name": "python",
   "nbconvert_exporter": "python",
   "pygments_lexer": "ipython3",
   "version": "3.9.9"
  },
  "toc": {
   "base_numbering": 1,
   "nav_menu": {},
   "number_sections": true,
   "sideBar": true,
   "skip_h1_title": false,
   "title_cell": "Table of Contents",
   "title_sidebar": "Contents",
   "toc_cell": false,
   "toc_position": {},
   "toc_section_display": true,
   "toc_window_display": false
  }
 },
 "nbformat": 4,
 "nbformat_minor": 5
}
