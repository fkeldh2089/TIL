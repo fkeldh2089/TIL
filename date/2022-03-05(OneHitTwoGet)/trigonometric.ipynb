{
 "cells": [
  {
   "cell_type": "code",
   "execution_count": 2,
   "id": "3685022c",
   "metadata": {},
   "outputs": [
    {
     "name": "stdout",
     "output_type": "stream",
     "text": [
      "3.141592653589793 6.283185307179586 360.0\n"
     ]
    }
   ],
   "source": [
    "import math\n",
    "a = math.pi\n",
    "b = math.radians(360)  # 360도를 라디안으로\n",
    "c = math.degrees(2*math.pi)  # 2pi 라디안을 degree로\n",
    "\n",
    "print(a, b, c)"
   ]
  },
  {
   "cell_type": "code",
   "execution_count": 9,
   "id": "af66347c",
   "metadata": {},
   "outputs": [
    {
     "name": "stdout",
     "output_type": "stream",
     "text": [
      "degree\tsin(x)\tcos(x)\ttan(x)\n",
      "========================================\n",
      " 0\t0.0000\t1.0000\t0.0000\n",
      "30\t0.5000\t0.8660\t0.5774\n",
      "45\t0.7071\t0.7071\t1.0000\n",
      "60\t0.8660\t0.5000\t1.7321\n",
      "90\t1.0000\t0.0000\t16331239353195370.0000\n"
     ]
    }
   ],
   "source": [
    "print(\"degree\\tsin(x)\\tcos(x)\\ttan(x)\") \n",
    "print(\"=\" * 40)\n",
    "deg = [0, 30, 45, 60, 90]\n",
    "for val in deg:\n",
    "    a = math.sin(math.pi * (val / 180))\n",
    "    b = math.cos(math.pi * (val / 180))\n",
    "    c = math.tan(math.pi * (val / 180))\n",
    "    print(f\"{val:2d}\\t{a:.4f}\\t{b:.4f}\\t{c:.4f}\")"
   ]
  },
  {
   "cell_type": "code",
   "execution_count": 43,
   "id": "343c1876",
   "metadata": {},
   "outputs": [
    {
     "name": "stdout",
     "output_type": "stream",
     "text": [
      "11.180339887498949\n",
      "rad: 0.17985349979247828\n",
      "deg: 10.304846468766033, 10.304846468766033\n",
      "sin(ans)*l = 2.0\n",
      "해당 공은 10.304846468766033~-10.304846468766033 타구 가능\n"
     ]
    }
   ],
   "source": [
    "# practice1  (0, 0)에서 (5, 10)을 바라볼 때 칠 수 있는 각도, 반경 1cm 공\n",
    "\n",
    "ball_a = [0, 0]\n",
    "ball_b = [5, 10]\n",
    "r = 1\n",
    "# 공 사이 거리 l, 직각삼각형 그려서,, d를 구하면\n",
    "l = math.sqrt((ball_a[0]-ball_b[0])**2 + (ball_a[1]-ball_b[1])**2)\n",
    "d = math.sqrt(l**2-(2*r)**2)\n",
    "ans = math.asin(2/l)  # 라디안으로 반환,\n",
    "print(l)\n",
    "print(f'rad: {ans}\\ndeg: {ans*180/math.pi}, {math.degrees(ans)}')\n",
    "print(f'sin(ans)*l = {math.sin(ans)*l}')  # 공의 직경이 나와야 함\n",
    "print(f'해당 공은 {math.degrees(ans)}~{-math.degrees(ans)} 타구 가능')"
   ]
  },
  {
   "cell_type": "code",
   "execution_count": 42,
   "id": "e66ae423",
   "metadata": {},
   "outputs": [
    {
     "name": "stdout",
     "output_type": "stream",
     "text": [
      "116.56505117707799\n",
      "0.8944271909999159 -0.4472135954999579\n",
      "[5.894427190999916, 8.211145618000169]\n"
     ]
    }
   ],
   "source": [
    "# practice2 (0, 0)에서 (5, 10)의 공을, (0, 20)으로 들여보내기 위한 좌표\n",
    "# 1 no cushion\n",
    "# 공은 부딫힐 때 위치만 중요,\n",
    "hall1 = [0, 20]\n",
    "s_x, s_y = hall1[0] - ball_b[0], hall1[1] - ball_b[1]\n",
    "if s_x == 0 and 0 <= s_y:\n",
    "    dmp = 2/(math.pi)\n",
    "elif s_x == 0 and 0 > s_y:\n",
    "    dmp = -2/(math.pi)\n",
    "else:\n",
    "    dmp = math.atan(s_y/s_x)\n",
    "    if 0 < s_x and 0 <= s_y: # 목적구 기준 1사분면\n",
    "        pass\n",
    "    elif 0 < s_x and 0 > s_y:  # 목적구 기준 2사분면\n",
    "        pass\n",
    "    elif 0 > s_x and 0 <= s_y: # 목적구 기준 3사분면\n",
    "        dmp += math.pi\n",
    "    elif 0 > s_x and 0 > s_y:  # 목적구 기준 4사분면\n",
    "        dmp -= math.pi\n",
    "\n",
    "# 접촉 지점은 conf, 타구는 obj 쪽으로,,\n",
    "conf = [ball_b[0]-math.cos(dmp)*r, ball_b[1]-math.sin(dmp)*r]\n",
    "obj = [ball_b[0]-math.cos(dmp)*2*r, ball_b[1]-math.sin(dmp)*2*r]\n",
    "\n",
    "print(math.degrees(dmp))\n",
    "print(math.sin(dmp), math.cos(dmp))\n",
    "print(obj)"
   ]
  },
  {
   "cell_type": "code",
   "execution_count": null,
   "id": "f49860b8",
   "metadata": {},
   "outputs": [],
   "source": [
    "# practice3 각도 계산"
   ]
  }
 ],
 "metadata": {
  "kernelspec": {
   "display_name": "Python 3 (ipykernel)",
   "language": "python",
   "name": "python3"
  },
  "language_info": {
   "codemirror_mode": {
    "name": "ipython",
    "version": 3
   },
   "file_extension": ".py",
   "mimetype": "text/x-python",
   "name": "python",
   "nbconvert_exporter": "python",
   "pygments_lexer": "ipython3",
   "version": "3.9.9"
  },
  "toc": {
   "base_numbering": 1,
   "nav_menu": {},
   "number_sections": true,
   "sideBar": true,
   "skip_h1_title": false,
   "title_cell": "Table of Contents",
   "title_sidebar": "Contents",
   "toc_cell": false,
   "toc_position": {},
   "toc_section_display": true,
   "toc_window_display": false
  }
 },
 "nbformat": 4,
 "nbformat_minor": 5
}
