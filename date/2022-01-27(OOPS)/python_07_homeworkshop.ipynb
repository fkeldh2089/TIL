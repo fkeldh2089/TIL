{
 "cells": [
  {
   "cell_type": "code",
   "execution_count": 1,
   "id": "349a12ac",
   "metadata": {},
   "outputs": [
    {
     "name": "stdout",
     "output_type": "stream",
     "text": [
      "<class 'type'>\n",
      "<class 'type'>\n",
      "<class 'type'>\n",
      "<class 'type'>\n",
      "<class 'type'>\n"
     ]
    }
   ],
   "source": [
    "# 1. Type Class\n",
    "print(type(int))\n",
    "print(type(map))\n",
    "print(type(str))\n",
    "print(type(float))\n",
    "print(type(bool))"
   ]
  },
  {
   "cell_type": "code",
   "execution_count": 6,
   "id": "6daaea3e",
   "metadata": {},
   "outputs": [],
   "source": [
    "# 2. Magic Method\n",
    "# __init__ : 생성자 메소드로 인스턴스 객체가 생성될 때 자동으로 호출되는 메소드\n",
    "# __del__ : 소멸자 메소드로 객체가 파괴되기 직전에 호출되는 메소드\n",
    "# __str__ : 해당 객체의 출력 형태를 지정, 어떤 인스턴스를 출력하면 return값이 출력\n",
    "# __repr__ : 문자열을 반환"
   ]
  },
  {
   "cell_type": "code",
   "execution_count": 7,
   "id": "f01f9acd",
   "metadata": {},
   "outputs": [],
   "source": [
    "# 3. Instance method\n",
    "# L.sort(...) : 리스트 정렬\n",
    "# L.index(x, start, end) : 리스트에 있는 항목 중 가장 왼쪽에 있는 항목 x의 인덱스 반환\n",
    "# L.append(x) : 리스트 마지막 항목 x 추가"
   ]
  },
  {
   "cell_type": "code",
   "execution_count": 9,
   "id": "22ff89dc",
   "metadata": {},
   "outputs": [
    {
     "data": {
      "text/plain": [
       "3"
      ]
     },
     "execution_count": 9,
     "metadata": {},
     "output_type": "execute_result"
    }
   ],
   "source": [
    "# 4. Module Import\n",
    "def fibo_recursion(n):\n",
    "    if n <2:\n",
    "        return n\n",
    "    else:\n",
    "        return fibo_recursion(n - 1) + fibo_recursion(n - 2)\n",
    "\n",
    "# (a) fibo\n",
    "# (b) fibo_recursion\n",
    "# (c) recursion\n"
   ]
  },
  {
   "cell_type": "code",
   "execution_count": 13,
   "id": "e034083a",
   "metadata": {},
   "outputs": [
    {
     "name": "stdout",
     "output_type": "stream",
     "text": [
      "Collecting faker\n",
      "  Downloading Faker-11.3.0-py3-none-any.whl (1.2 MB)\n",
      "Requirement already satisfied: python-dateutil>=2.4 in c:\\users\\dheld\\appdata\\local\\programs\\python\\python39\\lib\\site-packages (from faker) (2.8.2)\n",
      "Collecting text-unidecode==1.3\n",
      "  Downloading text_unidecode-1.3-py2.py3-none-any.whl (78 kB)\n",
      "Requirement already satisfied: six>=1.5 in c:\\users\\dheld\\appdata\\local\\programs\\python\\python39\\lib\\site-packages (from python-dateutil>=2.4->faker) (1.16.0)\n",
      "Installing collected packages: text-unidecode, faker\n",
      "Successfully installed faker-11.3.0 text-unidecode-1.3\n"
     ]
    },
    {
     "name": "stderr",
     "output_type": "stream",
     "text": [
      "WARNING: You are using pip version 21.2.4; however, version 21.3.1 is available.\n",
      "You should consider upgrading via the 'C:\\Users\\dheld\\AppData\\Local\\Programs\\Python\\Python39\\python.exe -m pip install --upgrade pip' command.\n"
     ]
    }
   ],
   "source": [
    "! pip install faker"
   ]
  },
  {
   "cell_type": "code",
   "execution_count": 18,
   "id": "5415dee2",
   "metadata": {},
   "outputs": [
    {
     "data": {
      "text/plain": [
       "'\\nfaker를 설치하기 위한 명령으로 cmd 나 git bash 등의 프롬프트 창에서 실행하면 된다.\\n'"
      ]
     },
     "execution_count": 18,
     "metadata": {},
     "output_type": "execute_result"
    }
   ],
   "source": [
    "# 1. pip\n",
    "\"\"\"\n",
    "faker를 설치하기 위한 명령으로 cmd 나 git bash 등의 프롬프트 창에서 실행하면 된다.\n",
    "\"\"\""
   ]
  },
  {
   "cell_type": "code",
   "execution_count": 15,
   "id": "03528fda",
   "metadata": {},
   "outputs": [
    {
     "data": {
      "text/plain": [
       "'Matthew Stewart'"
      ]
     },
     "execution_count": 15,
     "metadata": {},
     "output_type": "execute_result"
    }
   ],
   "source": [
    "# 2. Basic usages\n",
    "# 1. faker에서 Faker를 import 하기 위한 코드\n",
    "# 2. Faker는 클래스, fake는 인스턴스이다.\n",
    "# 3. name()은 fake의 instance method이다.\n",
    "from faker import Faker\n",
    "fake = Faker()\n",
    "fake.name()"
   ]
  },
  {
   "cell_type": "code",
   "execution_count": 20,
   "id": "8163545f",
   "metadata": {},
   "outputs": [],
   "source": [
    "# 3. Localization\n",
    "# (a) init\n",
    "# (b) self\n",
    "# (c) n = en_US"
   ]
  },
  {
   "cell_type": "code",
   "execution_count": 17,
   "id": "50470f8f",
   "metadata": {},
   "outputs": [
    {
     "name": "stdout",
     "output_type": "stream",
     "text": [
      "이도윤\n",
      "이지후\n"
     ]
    }
   ],
   "source": [
    "# 4-1. Seeding the Generator\n",
    "import random\n",
    "\n",
    "random.random()\n",
    "random.random()\n",
    "\n",
    "random.seed(7777)\n",
    "random.random()\n",
    "\n",
    "random.seed(7777)\n",
    "random.random()\n",
    "\n",
    "fake = Faker('ko_KR')\n",
    "Faker.seed(4321)\n",
    "\n",
    "print(fake.name())\n",
    "\n",
    "fake2 = Faker('ko_KR')\n",
    "print(fake2.name())\n",
    "# # 1 이도윤\n",
    "# # 2 이지후\n",
    "# seed() 는 클래스 메솔드"
   ]
  },
  {
   "cell_type": "code",
   "execution_count": 18,
   "id": "2da7b516",
   "metadata": {},
   "outputs": [
    {
     "name": "stdout",
     "output_type": "stream",
     "text": [
      "이도윤\n",
      "김광수\n"
     ]
    }
   ],
   "source": [
    "# 4-2. Seeding the Generator\n",
    "fake = Faker('ko_KR')\n",
    "fake.seed_instance(4321)\n",
    "print(fake.name())\n",
    "\n",
    "fake2 = Faker('ko_KR')\n",
    "print(fake2.name())\n",
    "\n",
    "# # 1 이도윤\n",
    "# # 2 김광수\n",
    "# seed_instance()는 인스턴스 메소드로 \n",
    "# seed() 는 클래스 인자에 접근하여 변경하는 용도\n",
    "# seed_instance() 는 객체 인스턴스의 상태를 수정하는 용도"
   ]
  },
  {
   "cell_type": "code",
   "execution_count": 19,
   "id": "8b32aacd",
   "metadata": {},
   "outputs": [
    {
     "data": {
      "text/plain": [
       "'조승민'"
      ]
     },
     "execution_count": 19,
     "metadata": {},
     "output_type": "execute_result"
    }
   ],
   "source": [
    "fake3 = Faker('ko_KR')\n",
    "fake3.name()"
   ]
  },
  {
   "cell_type": "code",
   "execution_count": null,
   "id": "f8fc782c",
   "metadata": {},
   "outputs": [],
   "source": []
  }
 ],
 "metadata": {
  "kernelspec": {
   "display_name": "Python 3 (ipykernel)",
   "language": "python",
   "name": "python3"
  },
  "language_info": {
   "codemirror_mode": {
    "name": "ipython",
    "version": 3
   },
   "file_extension": ".py",
   "mimetype": "text/x-python",
   "name": "python",
   "nbconvert_exporter": "python",
   "pygments_lexer": "ipython3",
   "version": "3.9.9"
  },
  "toc": {
   "base_numbering": 1,
   "nav_menu": {},
   "number_sections": true,
   "sideBar": true,
   "skip_h1_title": false,
   "title_cell": "Table of Contents",
   "title_sidebar": "Contents",
   "toc_cell": false,
   "toc_position": {},
   "toc_section_display": true,
   "toc_window_display": false
  }
 },
 "nbformat": 4,
 "nbformat_minor": 5
}
