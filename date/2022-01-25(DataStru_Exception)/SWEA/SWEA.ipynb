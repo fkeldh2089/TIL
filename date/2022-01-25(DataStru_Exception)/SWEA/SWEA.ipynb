{
 "cells": [
  {
   "cell_type": "code",
   "execution_count": 13,
   "id": "325e25c3",
   "metadata": {},
   "outputs": [],
   "source": [
    "def mp(n):\n",
    "    a0 = list(n[0])\n",
    "    a0 = list(map(int,list(a0)))\n",
    "    a1 = int(n[1])\n",
    "    b = list(map(int,list(a0)))\n",
    "    b.sort(reverse = True) #b는 목표값\n",
    "    opp = 0\n",
    "    p = 0    \n",
    "    cnt = 0\n",
    "    to_change = []\n",
    "    \n",
    "    for i in range(len(a0)): # 바뀌어야 할 숫자들\n",
    "        if a0[i] != b[i]:\n",
    "            to_change.append(a0[i])\n",
    "    print(a0)\n",
    "    print(b)\n",
    "    \n",
    "    print(to_change)\n",
    "    \n",
    "    if a0 == b:\n",
    "        for i in range(a1): # 최대값에서 남은 횟수만큼 가장 작은 단위만 바꿈\n",
    "            a0[-1], a0[-2] = a0[-2], a0[-1]\n",
    "            return a0\n",
    "    \n",
    "    while(opp < a1):\n",
    "\n",
    "        q = 0\n",
    "        tmp0 = 0\n",
    "        tmp1 = []\n",
    "        if a0[p] == b[p]:\n",
    "            p += 1\n",
    "            \n",
    "        else :\n",
    "            r = 0\n",
    "            tmp0 = a0[p]\n",
    "            tmp1.append(a0[p])\n",
    "            a0[p] = b[p]\n",
    "            while(q == 0):\n",
    "                #print(b[p])\n",
    "                if a0[-1-r] != b[p] :\n",
    "                    r += 1\n",
    "                else :\n",
    "                    a0[-1-r] = tmp0\n",
    "                    q += 1\n",
    "                    opp += 1\n",
    "        \n",
    "        if a0 == b:\n",
    "            for i in range(a1 - opp): # 최대값에서 남은 횟수만큼 가장 작은 단위만 바꿈\n",
    "                a0[-1], a0[-2] = a0[-2], a0[-1]\n",
    "                return a0\n",
    "    \n",
    "    return a0"
   ]
  },
  {
   "cell_type": "code",
   "execution_count": 15,
   "id": "266ed09d",
   "metadata": {},
   "outputs": [
    {
     "name": "stdout",
     "output_type": "stream",
     "text": [
      "1\n",
      "28999 2\n",
      "[2, 8, 9, 9, 9]\n",
      "[9, 9, 9, 8, 2]\n",
      "[2, 8, 9, 9]\n",
      "#1 99982\n"
     ]
    }
   ],
   "source": [
    "num = int(input())\n",
    "for i in range(num):\n",
    "    numbers = input().split()\n",
    "    ans = mp(numbers)\n",
    "    ans = list(map(str,ans))\n",
    "    ans = ''.join(ans)\n",
    "    print(f'#{i+1} {ans}')\n"
   ]
  },
  {
   "cell_type": "code",
   "execution_count": 5,
   "id": "528df91c",
   "metadata": {},
   "outputs": [],
   "source": [
    "def mp_2(n):\n",
    "    a0 = list(n[0])\n",
    "    a0 = list(map(int,list(a0)))\n",
    "    a1 = int(n[1])\n",
    "    b = list(map(int,list(a0)))\n",
    "    b.sort(reverse = True) #b는 목표값\n",
    "    opp = 0\n",
    "    p = 0    \n",
    "    cnt = 0\n",
    "    to_c = []\n",
    "    cgd = []\n",
    "    \n",
    "    for i in range(len(a0)): # 바뀌어야 할 숫자들\n",
    "        if a0[i] != b[i]:\n",
    "            to_c.append(a0[i])\n",
    "    print(a0)\n",
    "    print(b)\n",
    "    print(to_c)\n",
    "    \n",
    "    if a0 == b:\n",
    "        for i in range(a1): # 최대값에서 남은 횟수만큼 가장 작은 단위만 바꿈\n",
    "            a0[-1], a0[-2] = a0[-2], a0[-1]\n",
    "            return a0\n",
    "    \n",
    "    \n",
    "    f = 0 # 플래그\n",
    "    while(opp < a1 and f == 0):\n",
    "        tmp = []\n",
    "        \n",
    "        \n",
    "        \n",
    "        if to_c.count(max(to_c)) == 1:\n",
    "            to_c[0], to_c[to_c.index(max(to_c))] = max(to_c), to_c[0]\n",
    "            cgd = to_c[::]\n",
    "            to_c.remove(max(to_c))\n",
    "            opp += 1\n",
    "            \n",
    "            if to_c == sorted(to_c).reverse: # 정렬이 끝났다면\n",
    "                f = 1\n",
    "        \n",
    "        else:\n",
    "            if (a1 - opp) >= to_c.count(max(to_c))\n",
    "            tmp = sorted(to_c[0:to_c.count(max(to_c)):1])\n",
    "            \n",
    "            \n",
    "            for i in range(to_c.count(max(to_c))):\n",
    "                q = 0\n",
    "                r = 0\n",
    "                \n",
    "                to_c[i] = max(to_c)\n",
    "                while(q == 0):\n",
    "                    if to_c[-1 -r] = max(to_c):\n",
    "                        to_c[-1 -r] = tmp[-1 - i]\n",
    "                        q = 1\n",
    "                    else:\n",
    "                        r += 1\n",
    "    \n",
    "    return a0"
   ]
  },
  {
   "cell_type": "code",
   "execution_count": 6,
   "id": "d9221510",
   "metadata": {},
   "outputs": [
    {
     "name": "stdout",
     "output_type": "stream",
     "text": [
      "2\n",
      "123 1\n",
      "[1, 2, 3]\n"
     ]
    },
    {
     "ename": "TypeError",
     "evalue": "'NoneType' object is not iterable",
     "output_type": "error",
     "traceback": [
      "\u001b[1;31m---------------------------------------------------------------------------\u001b[0m",
      "\u001b[1;31mTypeError\u001b[0m                                 Traceback (most recent call last)",
      "Input \u001b[1;32mIn [6]\u001b[0m, in \u001b[0;36m<module>\u001b[1;34m\u001b[0m\n\u001b[0;32m      3\u001b[0m numbers \u001b[38;5;241m=\u001b[39m \u001b[38;5;28minput\u001b[39m()\u001b[38;5;241m.\u001b[39msplit()\n\u001b[0;32m      4\u001b[0m ans \u001b[38;5;241m=\u001b[39m mk(numbers)\n\u001b[1;32m----> 5\u001b[0m ans \u001b[38;5;241m=\u001b[39m \u001b[38;5;28mlist\u001b[39m(\u001b[38;5;28;43mmap\u001b[39;49m\u001b[43m(\u001b[49m\u001b[38;5;28;43mstr\u001b[39;49m\u001b[43m,\u001b[49m\u001b[43mans\u001b[49m\u001b[43m)\u001b[49m)\n\u001b[0;32m      6\u001b[0m ans \u001b[38;5;241m=\u001b[39m \u001b[38;5;124m'\u001b[39m\u001b[38;5;124m'\u001b[39m\u001b[38;5;241m.\u001b[39mjoin(ans)\n\u001b[0;32m      7\u001b[0m \u001b[38;5;28mprint\u001b[39m(\u001b[38;5;124mf\u001b[39m\u001b[38;5;124m'\u001b[39m\u001b[38;5;124m#\u001b[39m\u001b[38;5;132;01m{\u001b[39;00mi\u001b[38;5;241m+\u001b[39m\u001b[38;5;241m1\u001b[39m\u001b[38;5;132;01m}\u001b[39;00m\u001b[38;5;124m \u001b[39m\u001b[38;5;132;01m{\u001b[39;00mans\u001b[38;5;132;01m}\u001b[39;00m\u001b[38;5;124m'\u001b[39m)\n",
      "\u001b[1;31mTypeError\u001b[0m: 'NoneType' object is not iterable"
     ]
    }
   ],
   "source": [
    "num = int(input())\n",
    "for i in range(num):\n",
    "    numbers = input().split()\n",
    "    ans = mk(numbers)\n",
    "    ans = list(map(str,ans))\n",
    "    ans = ''.join(ans)\n",
    "    print(f'#{i+1} {ans}')\n"
   ]
  },
  {
   "cell_type": "code",
   "execution_count": null,
   "id": "35f0d2e9",
   "metadata": {},
   "outputs": [],
   "source": []
  }
 ],
 "metadata": {
  "kernelspec": {
   "display_name": "Python 3 (ipykernel)",
   "language": "python",
   "name": "python3"
  },
  "language_info": {
   "codemirror_mode": {
    "name": "ipython",
    "version": 3
   },
   "file_extension": ".py",
   "mimetype": "text/x-python",
   "name": "python",
   "nbconvert_exporter": "python",
   "pygments_lexer": "ipython3",
   "version": "3.9.9"
  },
  "toc": {
   "base_numbering": 1,
   "nav_menu": {},
   "number_sections": true,
   "sideBar": true,
   "skip_h1_title": false,
   "title_cell": "Table of Contents",
   "title_sidebar": "Contents",
   "toc_cell": false,
   "toc_position": {},
   "toc_section_display": true,
   "toc_window_display": false
  }
 },
 "nbformat": 4,
 "nbformat_minor": 5
}
