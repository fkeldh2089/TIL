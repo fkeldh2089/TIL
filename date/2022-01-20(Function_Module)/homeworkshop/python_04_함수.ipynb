{
 "cells": [
  {
   "cell_type": "code",
   "execution_count": 1,
   "id": "02e3f932",
   "metadata": {},
   "outputs": [],
   "source": [
    "# 1. 이름 공간\n",
    "#Local scope, Enclosed scope, Global scope, Built-in scope"
   ]
  },
  {
   "cell_type": "code",
   "execution_count": 2,
   "id": "41cd133b",
   "metadata": {},
   "outputs": [
    {
     "data": {
      "text/plain": [
       "\"\\n(1) 함수는 오직 하나의 객체만 반환할 수 있으므로 'return a, b'와\\n같이 쓸 수 없다.\\n(2) 함수에서 return을 작성하지 않으면 None 값을 반환한다.\\n(3) 함수의 매개변수(parameter)는 함수를 선언할 때 설정한 값이며,\\n전달 인자(argument)는 함수를 호출할 때 넘겨주는 값이다.\\n(4) 가변 인자를 설정할 때는 함수 선언 시 매개변수 앞에 * 을 붙이고, \\n이 때는 함수내에서 tuple로 처리 된다.\\n\""
      ]
     },
     "execution_count": 2,
     "metadata": {},
     "output_type": "execute_result"
    }
   ],
   "source": [
    "# 2. 매개변수와 인자, 그리고 반환\n",
    "\n",
    "# (1)"
   ]
  },
  {
   "cell_type": "code",
   "execution_count": null,
   "id": "a7f2199f",
   "metadata": {},
   "outputs": [],
   "source": [
    "# 3. 재귀 함수\n",
    "# 수현하고자 하는 알고리즘이 재귀 함수를 사용하였을 때, 자연스러운 경우 사용한다.\n",
    "# 재귀 함수를 사용하였을 때, 반복문과 비교하면\n",
    "# 변수 사용을 줄일 수 있다는 장점이 있지만\n",
    "# 입력되는 값이 커질 수록 연산 속도가 오래 걸린다는 단점이 있다."
   ]
  }
 ],
 "metadata": {
  "kernelspec": {
   "display_name": "Python 3 (ipykernel)",
   "language": "python",
   "name": "python3"
  },
  "language_info": {
   "codemirror_mode": {
    "name": "ipython",
    "version": 3
   },
   "file_extension": ".py",
   "mimetype": "text/x-python",
   "name": "python",
   "nbconvert_exporter": "python",
   "pygments_lexer": "ipython3",
   "version": "3.9.9"
  },
  "toc": {
   "base_numbering": 1,
   "nav_menu": {},
   "number_sections": true,
   "sideBar": true,
   "skip_h1_title": false,
   "title_cell": "Table of Contents",
   "title_sidebar": "Contents",
   "toc_cell": false,
   "toc_position": {},
   "toc_section_display": true,
   "toc_window_display": false
  }
 },
 "nbformat": 4,
 "nbformat_minor": 5
}
