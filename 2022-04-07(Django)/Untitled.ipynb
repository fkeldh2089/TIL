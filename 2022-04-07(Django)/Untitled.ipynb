{
 "cells": [
  {
   "cell_type": "code",
   "execution_count": 1,
   "id": "8809936a",
   "metadata": {},
   "outputs": [
    {
     "name": "stdout",
     "output_type": "stream",
     "text": [
      "{3: 5}\n"
     ]
    }
   ],
   "source": [
    "dic = {3:5}\n",
    "print(dic)"
   ]
  },
  {
   "cell_type": "code",
   "execution_count": 2,
   "id": "f3508ec2",
   "metadata": {},
   "outputs": [
    {
     "name": "stdout",
     "output_type": "stream",
     "text": [
      "{3: 5, 1: 2}\n"
     ]
    }
   ],
   "source": [
    "dic.update({1:2})\n",
    "print(dic)"
   ]
  },
  {
   "cell_type": "code",
   "execution_count": 6,
   "id": "56e4da79",
   "metadata": {},
   "outputs": [
    {
     "ename": "KeyboardInterrupt",
     "evalue": "",
     "output_type": "error",
     "traceback": [
      "\u001b[1;31m---------------------------------------------------------------------------\u001b[0m",
      "\u001b[1;31mKeyboardInterrupt\u001b[0m                         Traceback (most recent call last)",
      "Input \u001b[1;32mIn [6]\u001b[0m, in \u001b[0;36m<cell line: 13>\u001b[1;34m()\u001b[0m\n\u001b[0;32m     11\u001b[0m inum \u001b[38;5;241m=\u001b[39m \u001b[38;5;241m27\u001b[39m\n\u001b[0;32m     12\u001b[0m \u001b[38;5;28;01mwhile\u001b[39;00m \u001b[38;5;241m1\u001b[39m:\n\u001b[1;32m---> 13\u001b[0m     \u001b[38;5;28;01mif\u001b[39;00m i \u001b[38;5;241m<\u001b[39m \u001b[38;5;28mlen\u001b[39m(\u001b[43mmsg\u001b[49m)\u001b[38;5;241m-\u001b[39m\u001b[38;5;241m1\u001b[39m:\n\u001b[0;32m     14\u001b[0m         \u001b[38;5;28;01mif\u001b[39;00m dic\u001b[38;5;241m.\u001b[39mget(\u001b[38;5;241m100\u001b[39m\u001b[38;5;241m*\u001b[39mmsg_ls[i]\u001b[38;5;241m+\u001b[39mmsg_ls[i\u001b[38;5;241m+\u001b[39m\u001b[38;5;241m1\u001b[39m]):\n\u001b[0;32m     15\u001b[0m             msg_ls[i:i\u001b[38;5;241m+\u001b[39m\u001b[38;5;241m2\u001b[39m] \u001b[38;5;241m=\u001b[39m [\u001b[38;5;241m0\u001b[39m, dic\u001b[38;5;241m.\u001b[39mget(\u001b[38;5;241m100\u001b[39m\u001b[38;5;241m*\u001b[39mmsg_ls[i]\u001b[38;5;241m+\u001b[39mmsg_ls[i\u001b[38;5;241m+\u001b[39m\u001b[38;5;241m1\u001b[39m])]\n",
      "\u001b[1;31mKeyboardInterrupt\u001b[0m: "
     ]
    }
   ],
   "source": [
    "msg = \"KAKAO\"\n",
    "answer = []\n",
    "dic = {}\n",
    "msg_ls = []\n",
    "for q in range(65, 91):  # 사전 생성\n",
    "    dic.update({chr(q):q-64})\n",
    "for q in range(len(msg)):  # 메세지를 숫자로 변환\n",
    "    msg_ls.append(dic[msg[q]])\n",
    "\n",
    "i = 0\n",
    "inum = 27\n",
    "while 1:\n",
    "    if i < len(msg)-1:\n",
    "        if dic.get(100*msg_ls[i]+msg_ls[i+1]):\n",
    "            msg_ls[i:i+2] = [0, dic.get(100*msg_ls[i]+msg_ls[i+1])]\n",
    "            i+=1\n",
    "        else:\n",
    "            dic.update({100*msg_ls[i]+msg_ls[i+1]:inum})\n",
    "            inum += 1\n",
    "            i += 1\n"
   ]
  },
  {
   "cell_type": "code",
   "execution_count": null,
   "id": "3e72a69f",
   "metadata": {},
   "outputs": [],
   "source": []
  }
 ],
 "metadata": {
  "kernelspec": {
   "display_name": "Python 3 (ipykernel)",
   "language": "python",
   "name": "python3"
  },
  "language_info": {
   "codemirror_mode": {
    "name": "ipython",
    "version": 3
   },
   "file_extension": ".py",
   "mimetype": "text/x-python",
   "name": "python",
   "nbconvert_exporter": "python",
   "pygments_lexer": "ipython3",
   "version": "3.9.9"
  },
  "toc": {
   "base_numbering": 1,
   "nav_menu": {},
   "number_sections": true,
   "sideBar": true,
   "skip_h1_title": false,
   "title_cell": "Table of Contents",
   "title_sidebar": "Contents",
   "toc_cell": false,
   "toc_position": {},
   "toc_section_display": true,
   "toc_window_display": false
  }
 },
 "nbformat": 4,
 "nbformat_minor": 5
}
