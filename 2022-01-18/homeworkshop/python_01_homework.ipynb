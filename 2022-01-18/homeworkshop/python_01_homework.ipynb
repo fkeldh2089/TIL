{
 "cells": [
  {
   "cell_type": "code",
   "execution_count": 1,
   "id": "173e156f",
   "metadata": {},
   "outputs": [
    {
     "name": "stdout",
     "output_type": "stream",
     "text": [
      "['False', 'None', 'True', '__peg_parser__', 'and', 'as', 'assert', 'async', 'await', 'break', 'class', 'continue', 'def', 'del', 'elif', 'else', 'except', 'finally', 'for', 'from', 'global', 'if', 'import', 'in', 'is', 'lambda', 'nonlocal', 'not', 'or', 'pass', 'raise', 'return', 'try', 'while', 'with', 'yield']\n"
     ]
    }
   ],
   "source": [
    "# 1. Python 예약어\n",
    "import keyword\n",
    "print(keyword.kwlist)"
   ]
  },
  {
   "cell_type": "code",
   "execution_count": 3,
   "id": "9e1fe133",
   "metadata": {},
   "outputs": [
    {
     "name": "stdout",
     "output_type": "stream",
     "text": [
      "False\n",
      "True\n"
     ]
    }
   ],
   "source": [
    "# 2. 실수 비교\n",
    "num1 = 0.1 * 3\n",
    "num2 = 0.3\n",
    "\n",
    "print(num1 == num2)\n",
    "\n",
    "import math\n",
    "print(math.isclose(num1, num2))"
   ]
  },
  {
   "cell_type": "code",
   "execution_count": 5,
   "id": "fad722c2",
   "metadata": {},
   "outputs": [
    {
     "name": "stdout",
     "output_type": "stream",
     "text": [
      "안녕 \n",
      "난\t 10\\이야\n"
     ]
    }
   ],
   "source": [
    "# 3. 이스케이프 시퀀스\n",
    "print('안녕 \\n난\\t 10\\\\이야')\n",
    "\n",
    "#\\n 줄바꿈\n",
    "#\\t 탭\n",
    "#\\\\ 백슬래시"
   ]
  },
  {
   "cell_type": "code",
   "execution_count": 6,
   "id": "4a9eae49",
   "metadata": {},
   "outputs": [
    {
     "name": "stdout",
     "output_type": "stream",
     "text": [
      "안녕, 철수야\n"
     ]
    }
   ],
   "source": [
    "# 4. String interpolation\n",
    "name = '철수'\n",
    "greet = '안녕, '+ name + '야'\n",
    "print(greet)"
   ]
  },
  {
   "cell_type": "code",
   "execution_count": 8,
   "id": "18b59614",
   "metadata": {},
   "outputs": [
    {
     "data": {
      "text/plain": [
       "True"
      ]
     },
     "execution_count": 8,
     "metadata": {},
     "output_type": "execute_result"
    }
   ],
   "source": [
    "# 5. 형 변환\n",
    "str(1) #(1)\n",
    "int('30') #(2)\n",
    "int(5) #(3)\n",
    "bool('50') #(4)\n",
    "#int('3.5') #(5)\n",
    "#실수를 int 변환할 수 없다."
   ]
  },
  {
   "cell_type": "code",
   "execution_count": 10,
   "id": "ebe8c810",
   "metadata": {},
   "outputs": [
    {
     "name": "stdout",
     "output_type": "stream",
     "text": [
      "5\n",
      "9\n",
      "*****\n",
      "*****\n",
      "*****\n",
      "*****\n",
      "*****\n",
      "*****\n",
      "*****\n",
      "*****\n",
      "*****\n",
      "\n"
     ]
    }
   ],
   "source": [
    "# 6. 네모 출력\n",
    "n = int(input())\n",
    "m = int(input())\n",
    "l = '*'*n\n",
    "l_1= l + '\\n'\n",
    "print(l_1*m)"
   ]
  },
  {
   "cell_type": "code",
   "execution_count": 17,
   "id": "62c4e1cf",
   "metadata": {},
   "outputs": [
    {
     "name": "stdout",
     "output_type": "stream",
     "text": [
      "\n",
      "\"파일은 c:\\Windows\\Users\\내문서\\PYthon에 저장이 되었습니다.\"\n",
      "나는 생각했다. 'cd를 써서 git bash로 들어가 봐야지.'\n",
      "\n"
     ]
    }
   ],
   "source": [
    "# 7. 이스케이프 시퀀스\n",
    "print(\"\"\"\n",
    "\"파일은 c:\\\\Windows\\\\Users\\\\내문서\\\\PYthon에 저장이 되었습니다.\"\n",
    "나는 생각했다. 'cd를 써서 git bash로 들어가 봐야지.'\n",
    "\"\"\")"
   ]
  },
  {
   "cell_type": "code",
   "execution_count": 21,
   "id": "057ad1eb",
   "metadata": {},
   "outputs": [
    {
     "name": "stdout",
     "output_type": "stream",
     "text": [
      "1\n",
      "2\n",
      "1\n",
      "-1.0 -1.0\n"
     ]
    }
   ],
   "source": [
    "# 8.근의 공식\n",
    "a = int(input())\n",
    "b = int(input())\n",
    "c = int(input())\n",
    "s_1 = (-b + (b**2-4*a*c)**0.5)/(2*a)\n",
    "s_2 = (-b - (b**2-4*a*c)**0.5)/(2*a)\n",
    "print(s_1, s_2)"
   ]
  },
  {
   "cell_type": "code",
   "execution_count": null,
   "id": "294a80d2",
   "metadata": {},
   "outputs": [],
   "source": []
  }
 ],
 "metadata": {
  "kernelspec": {
   "display_name": "Python 3 (ipykernel)",
   "language": "python",
   "name": "python3"
  },
  "language_info": {
   "codemirror_mode": {
    "name": "ipython",
    "version": 3
   },
   "file_extension": ".py",
   "mimetype": "text/x-python",
   "name": "python",
   "nbconvert_exporter": "python",
   "pygments_lexer": "ipython3",
   "version": "3.9.9"
  },
  "toc": {
   "base_numbering": 1,
   "nav_menu": {},
   "number_sections": true,
   "sideBar": true,
   "skip_h1_title": false,
   "title_cell": "Table of Contents",
   "title_sidebar": "Contents",
   "toc_cell": false,
   "toc_position": {},
   "toc_section_display": true,
   "toc_window_display": false
  }
 },
 "nbformat": 4,
 "nbformat_minor": 5
}
