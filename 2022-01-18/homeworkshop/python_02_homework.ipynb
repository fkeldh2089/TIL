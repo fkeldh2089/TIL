{
 "cells": [
  {
   "cell_type": "code",
   "execution_count": 1,
   "id": "a7806ca9",
   "metadata": {},
   "outputs": [],
   "source": [
    "# 1. Mutable & Immutable\n",
    "# mutable : List, Set, Dictionary\n",
    "# immutable : String, Tuple, Range"
   ]
  },
  {
   "cell_type": "code",
   "execution_count": 5,
   "id": "6dbfa986",
   "metadata": {},
   "outputs": [
    {
     "name": "stdout",
     "output_type": "stream",
     "text": [
      "[1, 3, 5, 7, 9, 11, 13, 15, 17, 19, 21, 23, 25, 27, 29, 31, 33, 35, 37, 39, 41, 43, 45, 47, 49]\n"
     ]
    }
   ],
   "source": [
    "# 2. 홀수만 담기\n",
    "n = range(1, 51)\n",
    "odd = list(n[0:51:2])\n",
    "print(odd)"
   ]
  },
  {
   "cell_type": "code",
   "execution_count": 9,
   "id": "c7ee1459",
   "metadata": {},
   "outputs": [
    {
     "data": {
      "text/plain": [
       "28"
      ]
     },
     "execution_count": 9,
     "metadata": {},
     "output_type": "execute_result"
    }
   ],
   "source": [
    "# 3. Dicionary 만들기 \n",
    "Class = {'홍제민' : 25, '누구누구' : 28}\n",
    "Class['누구누구']"
   ]
  },
  {
   "cell_type": "code",
   "execution_count": 11,
   "id": "3d1ba027",
   "metadata": {},
   "outputs": [
    {
     "name": "stdout",
     "output_type": "stream",
     "text": [
      "5\n",
      "9\n",
      "*****\n",
      "*****\n",
      "*****\n",
      "*****\n",
      "*****\n",
      "*****\n",
      "*****\n",
      "*****\n",
      "*****\n"
     ]
    }
   ],
   "source": [
    "# 4. 반복문으로 네모 출력\n",
    "n = int(input())\n",
    "m = int(input())\n",
    "for i in range(m):\n",
    "    for k in range(n):\n",
    "        print('*', end = '')\n",
    "    print()\n"
   ]
  },
  {
   "cell_type": "code",
   "execution_count": 12,
   "id": "cc19bbf6",
   "metadata": {},
   "outputs": [
    {
     "name": "stdout",
     "output_type": "stream",
     "text": [
      "'입실 가능'\n"
     ]
    }
   ],
   "source": [
    "# 5. 조건 표현식\n",
    "temp = 36.5\n",
    "out = \"'입실 불가'\" if temp >= 37.5 else \"'입실 가능'\"\n",
    "print(out)"
   ]
  },
  {
   "cell_type": "code",
   "execution_count": 22,
   "id": "b39b0549",
   "metadata": {},
   "outputs": [
    {
     "name": "stdout",
     "output_type": "stream",
     "text": [
      "88.0\n"
     ]
    }
   ],
   "source": [
    "# 6. 평균 구하기\n",
    "scores = [80, 90, 99 ,83]\n",
    "sum = 0\n",
    "for i in scores:\n",
    "    sum += i\n",
    "ave = sum/len(scores)\n",
    "print(ave)"
   ]
  }
 ],
 "metadata": {
  "kernelspec": {
   "display_name": "Python 3 (ipykernel)",
   "language": "python",
   "name": "python3"
  },
  "language_info": {
   "codemirror_mode": {
    "name": "ipython",
    "version": 3
   },
   "file_extension": ".py",
   "mimetype": "text/x-python",
   "name": "python",
   "nbconvert_exporter": "python",
   "pygments_lexer": "ipython3",
   "version": "3.9.9"
  },
  "toc": {
   "base_numbering": 1,
   "nav_menu": {},
   "number_sections": true,
   "sideBar": true,
   "skip_h1_title": false,
   "title_cell": "Table of Contents",
   "title_sidebar": "Contents",
   "toc_cell": false,
   "toc_position": {},
   "toc_section_display": true,
   "toc_window_display": false
  }
 },
 "nbformat": 4,
 "nbformat_minor": 5
}
