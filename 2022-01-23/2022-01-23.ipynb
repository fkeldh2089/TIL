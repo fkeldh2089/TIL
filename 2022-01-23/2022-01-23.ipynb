{
 "cells": [
  {
   "cell_type": "code",
   "execution_count": 1,
   "id": "2eb412df",
   "metadata": {},
   "outputs": [],
   "source": [
    "def mp(n):\n",
    "    a0 = list(n[0])\n",
    "    a0 = list(map(int,list(a0)))\n",
    "    a1 = int(n[1])\n",
    "    b = list(map(int,list(a0)))\n",
    "    b.sort(reverse = True) #b는 목표값\n",
    "    opp = 0\n",
    "    p = 0    \n",
    "    cnt = 0\n",
    "    if a0 == b:\n",
    "        for i in range(a1): # 최대값에서 남은 횟수만큼 가장 작은 단위만 바꿈\n",
    "            a0[-1], a0[-2] = a0[-2], a0[-1]\n",
    "            return a0\n",
    "    \n",
    "    while(opp < a1):\n",
    "\n",
    "        q = 0\n",
    "        tmp0 = 0\n",
    "        tmp1 = []\n",
    "        if a0[p] == b[p]:\n",
    "            p += 1\n",
    "            \n",
    "        else :\n",
    "            r = 0\n",
    "            tmp0 = a0[p]\n",
    "            tmp1.append(a0[p])\n",
    "            a0[p] = b[p]\n",
    "            while(q == 0):\n",
    "                #print(b[p])\n",
    "                if a0[-1-r] != b[p] :\n",
    "                    r += 1\n",
    "                else :\n",
    "                    a0[-1-r] = tmp0\n",
    "                    q += 1\n",
    "                    opp += 1\n",
    "        \n",
    "        if a0 == b:\n",
    "            for i in range(a1 - opp): # 최대값에서 남은 횟수만큼 가장 작은 단위만 바꿈\n",
    "                a0[-1], a0[-2] = a0[-2], a0[-1]\n",
    "                return a0\n",
    "    \n",
    "    return a0"
   ]
  },
  {
   "cell_type": "code",
   "execution_count": null,
   "id": "67bc74c8",
   "metadata": {},
   "outputs": [],
   "source": [
    "num = int(input())\n",
    "for i in range(num):\n",
    "    numbers = input().split()\n",
    "    ans = mp(numbers)\n",
    "    ans = list(map(str,ans))\n",
    "    ans = ''.join(ans)\n",
    "    print(f'#{i+1} {ans}')\n"
   ]
  },
  {
   "cell_type": "code",
   "execution_count": null,
   "id": "a4862892",
   "metadata": {},
   "outputs": [],
   "source": [
    "tmp0.append(b[p])\n",
    "tmp1.append(a[p])\n",
    "\n",
    "if a1 == 1:\n",
    "    pass\n",
    "else :\n",
    "    p += 1\n",
    "    if a0[p] == b[p]:\n",
    "        p += 1\n",
    "    \n",
    "    else :\n",
    "        tmp0.append(b[p])\n",
    "        tmp1.append(a[p])\n",
    "        \n",
    "        if tmp0[-1] != tmp0[0]:\n",
    "            tmp2 = tmp[0:-1:1]\n",
    "            tmp2.sort(reverse = True)\n",
    "            \n",
    "    \n",
    "        \n",
    "        "
   ]
  }
 ],
 "metadata": {
  "kernelspec": {
   "display_name": "Python 3 (ipykernel)",
   "language": "python",
   "name": "python3"
  },
  "language_info": {
   "codemirror_mode": {
    "name": "ipython",
    "version": 3
   },
   "file_extension": ".py",
   "mimetype": "text/x-python",
   "name": "python",
   "nbconvert_exporter": "python",
   "pygments_lexer": "ipython3",
   "version": "3.9.9"
  },
  "toc": {
   "base_numbering": 1,
   "nav_menu": {},
   "number_sections": true,
   "sideBar": true,
   "skip_h1_title": false,
   "title_cell": "Table of Contents",
   "title_sidebar": "Contents",
   "toc_cell": false,
   "toc_position": {},
   "toc_section_display": true,
   "toc_window_display": false
  }
 },
 "nbformat": 4,
 "nbformat_minor": 5
}
