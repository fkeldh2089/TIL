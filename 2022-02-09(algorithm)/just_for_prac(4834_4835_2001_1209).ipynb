{
 "cells": [
  {
   "cell_type": "code",
   "execution_count": 13,
   "id": "67e442a4",
   "metadata": {},
   "outputs": [
    {
     "name": "stdout",
     "output_type": "stream",
     "text": [
      "1\n",
      "10 3\n",
      "1 2 3 4 5 6 7 8 9 10\n",
      "#1 21\n"
     ]
    }
   ],
   "source": [
    "# 4835_구간합\n",
    "test_case = int(input())\n",
    "for p in range(test_case):\n",
    "    input_set = input().split()\n",
    "    a = int(input_set[0])\n",
    "    b = int(input_set[1])\n",
    "    numbs = input().split()\n",
    "    numbs_list = list(map(int, numbs))\n",
    "    min_sum = float('inf')\n",
    "    max_sum = float('-inf')\n",
    "    \n",
    "    for q in range(a-b+1):\n",
    "        sum_temp = 0\n",
    "        for r in range(b):\n",
    "            sum_temp += numbs_list[q + r]\n",
    "        if sum_temp <= min_sum:\n",
    "            min_sum = sum_temp\n",
    "        if sum_temp >= max_sum:\n",
    "            max_sum = sum_temp\n",
    "    \n",
    "    print(f'#{p+1} {max_sum - min_sum}')\n",
    "    \n",
    "    "
   ]
  },
  {
   "cell_type": "code",
   "execution_count": 9,
   "id": "9835cc94",
   "metadata": {},
   "outputs": [
    {
     "data": {
      "text/plain": [
       "True"
      ]
     },
     "execution_count": 9,
     "metadata": {},
     "output_type": "execute_result"
    }
   ],
   "source": [
    "float('inf')>30"
   ]
  },
  {
   "cell_type": "code",
   "execution_count": 16,
   "id": "fe6b64d3",
   "metadata": {},
   "outputs": [
    {
     "name": "stdout",
     "output_type": "stream",
     "text": [
      "3\n",
      "5\n",
      "49679\n",
      "[0, 0, 0, 0, 1, 0, 1, 1, 0, 2, 0]\n",
      "#1 9 2\n",
      "5\n",
      "08271\n",
      "[1, 1, 1, 0, 0, 0, 0, 1, 1, 0, 0]\n",
      "#2 8 1\n",
      "10\n",
      "7797946543\n",
      "[0, 0, 0, 1, 2, 1, 1, 3, 0, 2, 0]\n",
      "#3 7 3\n"
     ]
    }
   ],
   "source": [
    "# 4834_숫자카드\n",
    "test_case = int(input())\n",
    "for p in range(test_case):\n",
    "    input_set = int(input())\n",
    "    input_num = int(input())\n",
    "    num_list = [0]*11\n",
    "    max_index = 0\n",
    "    max_num = 0\n",
    "    for q in range(input_set):\n",
    "        num_list[input_num%10] += 1\n",
    "        input_num = input_num//10\n",
    "    #print(num_list)\n",
    "    for q in range(11):\n",
    "        if max_num <= num_list[q]:\n",
    "            max_index = q\n",
    "            max_num = num_list[q]\n",
    "    if max_num == 1:\n",
    "        for q in range(11):\n",
    "            if num_list[q] == 1:\n",
    "                max_index = q\n",
    "    \n",
    "    print(f'#{p+1} {max_index} {max_num}')\n",
    "    "
   ]
  },
  {
   "cell_type": "code",
   "execution_count": 18,
   "id": "6615bd08",
   "metadata": {},
   "outputs": [
    {
     "name": "stdout",
     "output_type": "stream",
     "text": [
      "1\n",
      "1\n"
     ]
    },
    {
     "ename": "IndexError",
     "evalue": "list index out of range",
     "output_type": "error",
     "traceback": [
      "\u001b[1;31m---------------------------------------------------------------------------\u001b[0m",
      "\u001b[1;31mIndexError\u001b[0m                                Traceback (most recent call last)",
      "Input \u001b[1;32mIn [18]\u001b[0m, in \u001b[0;36m<module>\u001b[1;34m\u001b[0m\n\u001b[0;32m      4\u001b[0m sets \u001b[38;5;241m=\u001b[39m \u001b[38;5;28mlist\u001b[39m(\u001b[38;5;28mmap\u001b[39m(\u001b[38;5;28mint\u001b[39m, \u001b[38;5;28minput\u001b[39m()\u001b[38;5;241m.\u001b[39msplit()))\n\u001b[0;32m      5\u001b[0m n \u001b[38;5;241m=\u001b[39m sets[\u001b[38;5;241m0\u001b[39m]\n\u001b[1;32m----> 6\u001b[0m m \u001b[38;5;241m=\u001b[39m \u001b[43msets\u001b[49m\u001b[43m[\u001b[49m\u001b[38;5;241;43m1\u001b[39;49m\u001b[43m]\u001b[49m\n\u001b[0;32m      8\u001b[0m flies \u001b[38;5;241m=\u001b[39m []\n\u001b[0;32m     10\u001b[0m \u001b[38;5;28;01mfor\u001b[39;00m q \u001b[38;5;129;01min\u001b[39;00m \u001b[38;5;28mrange\u001b[39m(n):\n",
      "\u001b[1;31mIndexError\u001b[0m: list index out of range"
     ]
    }
   ],
   "source": [
    "# 2001_파리퇴치\n",
    "test_case = int(input())\n",
    "for p in range(test_case):\n",
    "    sets = list(map(int, input().split()))\n",
    "    n = sets[0]\n",
    "    m = sets[1]\n",
    "\n",
    "    flies = []\n",
    "\n",
    "    for q in range(n):\n",
    "        flies_row = list(map(int, input().split()))  # 파리 열\n",
    "        flies.append(flies_row)\n",
    "\n",
    "    dead = 0\n",
    "    dead_max = 0\n",
    "    for q1 in range(n - m + 1):\n",
    "\n",
    "        for q2 in range(n - m + 1):\n",
    "            dead = 0\n",
    "            for r1 in range(m):\n",
    "                for r2 in range(m):\n",
    "                    dead += flies[q1 + r1][q2 + r2]\n",
    "                    if dead_max <= dead:\n",
    "                        dead_max = dead\n",
    "\n",
    "    print(f'#{p+1} {dead_max}')\n",
    "    "
   ]
  },
  {
   "cell_type": "code",
   "execution_count": null,
   "id": "2eb53a8b",
   "metadata": {},
   "outputs": [],
   "source": [
    "# 1209_Sum\n",
    "for p in range(10):\n",
    "    tc = int(input())\n",
    "    mat = []\n",
    "    \n",
    "    for q in range(100):\n",
    "        mrow = list(map(int, input().split())) # 열\n",
    "        mat.append(mrow)\n",
    "        \n",
    "        \n",
    "    sum_max = 0\n",
    "    for q1 in range(100):\n",
    "        sum_row = 0\n",
    "        sum_col = 0\n",
    "        for q2 in range(100):\n",
    "            sum_row += mat[q1][q2] \n",
    "            sum_col += mat[q2][q1]\n",
    "            if sum_max <= sum_row:\n",
    "                sum_max = sum_row\n",
    "            if sum_max <= sum_col:\n",
    "                sum_max = sum_col\n",
    "                \n",
    "                \n",
    "    sum_cro1 = 0\n",
    "    sum_cro2 = 0\n",
    "    for q in range(100):\n",
    "        sum_cro1 += mat[q][q]\n",
    "        sum_cro2 += mat[-1-q][-1-q]\n",
    "        \n",
    "    if sum_max <= sum_cro1:\n",
    "        sum_max = sum_cro1\n",
    "    if sum_max <= sum_cro2:\n",
    "        sum_max = sum_cro2\n",
    "    \n",
    "    print(f'#{p+1} sum_max')"
   ]
  },
  {
   "cell_type": "code",
   "execution_count": 19,
   "id": "b47b3862",
   "metadata": {},
   "outputs": [
    {
     "data": {
      "text/plain": [
       "[1, 2, 3, 4]"
      ]
     },
     "execution_count": 19,
     "metadata": {},
     "output_type": "execute_result"
    }
   ],
   "source": [
    "[1, 2, 3] + [4]"
   ]
  },
  {
   "cell_type": "code",
   "execution_count": 20,
   "id": "337556c9",
   "metadata": {},
   "outputs": [
    {
     "name": "stdout",
     "output_type": "stream",
     "text": [
      "1\n",
      "3 5\n",
      "1 3 5\n",
      "2 3 [3, 5] [1, 3, 5]\n",
      "#1 -inf\n"
     ]
    }
   ],
   "source": [
    "tc = int(input())\n",
    "\n",
    "for p in range(tc):\n",
    "    numa = list(map(int, input().split()))\n",
    "    numb = list(map(int, input().split()))\n",
    "\n",
    "    la = 0\n",
    "    lb = 0\n",
    "\n",
    "    for q in numa:\n",
    "        la += 1\n",
    "    for q in numb:\n",
    "        lb += 1\n",
    "    if la > lb:\n",
    "        numb, numa = numa, numb\n",
    "        la, lb = lb, la\n",
    "\n",
    "    print(la, lb, numa, numb)\n",
    "\n",
    "    max_num = float('-inf')\n",
    "    for q in range(la -lb + 1):\n",
    "        numa_0 = [0]*q + numa + [0]*(la-lb-q) # 작은 쪽에 패딩\n",
    "        temp_num = 0\n",
    "        print(numa_0)\n",
    "        for q1 in range(lb):\n",
    "            temp_num += numa_0[q1] + numb[q1]\n",
    "\n",
    "            if max_num < temp_num:\n",
    "                max_num = temp_num\n",
    "\n",
    "    print(f'#{p+1} {max_num}')"
   ]
  },
  {
   "cell_type": "code",
   "execution_count": null,
   "id": "c23d0e97",
   "metadata": {},
   "outputs": [],
   "source": []
  }
 ],
 "metadata": {
  "kernelspec": {
   "display_name": "Python 3 (ipykernel)",
   "language": "python",
   "name": "python3"
  },
  "language_info": {
   "codemirror_mode": {
    "name": "ipython",
    "version": 3
   },
   "file_extension": ".py",
   "mimetype": "text/x-python",
   "name": "python",
   "nbconvert_exporter": "python",
   "pygments_lexer": "ipython3",
   "version": "3.9.9"
  },
  "toc": {
   "base_numbering": 1,
   "nav_menu": {},
   "number_sections": true,
   "sideBar": true,
   "skip_h1_title": false,
   "title_cell": "Table of Contents",
   "title_sidebar": "Contents",
   "toc_cell": false,
   "toc_position": {},
   "toc_section_display": true,
   "toc_window_display": false
  }
 },
 "nbformat": 4,
 "nbformat_minor": 5
}
