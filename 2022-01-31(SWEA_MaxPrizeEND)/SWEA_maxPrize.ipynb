{
 "cells": [
  {
   "cell_type": "code",
   "execution_count": 1,
   "id": "78876f5b",
   "metadata": {},
   "outputs": [
    {
     "data": {
      "text/plain": [
       "2"
      ]
     },
     "execution_count": 1,
     "metadata": {},
     "output_type": "execute_result"
    }
   ],
   "source": [
    "number = [1, 2, 3, 4, 7, 10, 2, 1, 4, 5]\n",
    "\n",
    "number.count(number[1])"
   ]
  },
  {
   "cell_type": "code",
   "execution_count": 61,
   "id": "da141826",
   "metadata": {},
   "outputs": [
    {
     "name": "stdout",
     "output_type": "stream",
     "text": [
      "27371\n"
     ]
    }
   ],
   "source": [
    "len(set(number))\n",
    "a = ''.join(number)\n",
    "print(a)"
   ]
  },
  {
   "cell_type": "code",
   "execution_count": 69,
   "id": "7ff8669b",
   "metadata": {},
   "outputs": [],
   "source": [
    "def make_to_c(number1, goal): # to_c를 반환하는 함수\n",
    "    to_c = []\n",
    "    for p in range(len(number1)): # 교환이 필요한 경우 to_c에 추가\n",
    "        if number1[p] != goal[p]:\n",
    "            to_c.append(number1[p])\n",
    "    return to_c\n",
    "\n",
    "\n",
    "# 2-2. 교환부 (교환 숫자가 중복이 없을 경우)\n",
    "def change_num(number1, goal, opper):\n",
    "    try_c = 0 # 사용한 교환 횟수\n",
    "    to_c = make_to_c(number1, goal)\n",
    "\n",
    "    for p in range(len(number1)): # \n",
    "        if number1[p] != goal[p]: # 제일 큰 자릿 수부터 목표로한 금액과 차이가 잇으면 바꿔버린다.\n",
    "            if to_c.count(goal[p]) == 1: # 교환할 큰 숫자가 중복된 숫자가 없을 경우\n",
    "                tmp = number1[p] # 위의 처음 생각한 교환부의 기능을 그대로 가져간다.\n",
    "                number1[p] = goal[p]            \n",
    "                for q in range(len(number1)):\n",
    "                    if number1[-1-q] == goal[p]:\n",
    "                        number1[-1-q] = tmp\n",
    "                        break\n",
    "\n",
    "                try_c += 1 # 교환 시도 횟수 증가\n",
    "                to_c = make_to_c(number1, goal) # to_c 갱신\n",
    "\n",
    "\n",
    "            elif to_c.count(goal[p]) > 1: # 교환할 큰 숫자가 중복된 숫자가 있을 경우\n",
    "                if (opper-try_c) >= to_c.count(goal[p]): # 잔여 교환 횟수가 더 클 경우\n",
    "                    tmp = to_c[0:to_c.count(goal[p]):1] # 교환해야 할 수 저장\n",
    "                    tmp.sort() # 교환해야할 숫자 오름차순으로 정렬\n",
    "                    for q in range(len(tmp)):                        \n",
    "                        for r in range(len(number1)):\n",
    "                            if number1[-r] == goal[p]: # number1 뒤에서부터 큰수를 가장 작은 수\n",
    "                                number1[-r] = tmp[q] # 교환\n",
    "                                break # 한번 바꾸면 탈출\n",
    "                    for q in range(len(tmp)):\n",
    "                        for r in range(len(number1)):\n",
    "                            if number1[r] == tmp[q]: # 앞자리서 부터 바꿔줄 숫자 찾자\n",
    "                                number1[r] = goal[p] # 교환\n",
    "                                break # 한번 바꾸면 탈출\n",
    "                    try_c += len(tmp) #교환 시도 횟수 증가\n",
    "                    to_c = make_to_c(number1, goal) # to_c 갱신\n",
    "\n",
    "                elif (opper-try_c) < to_c.count(goal[p]): # 잔여 횟수가 적을 경우\n",
    "                    tmp = to_c[0:(opper-try_c):1] # 교환 해야할 수 저장\n",
    "                    tmp.sort() # 교환해야할 수 오름차순 정렬\n",
    "                    for q in range(len(tmp)):\n",
    "                        for r in range(len(number1)):\n",
    "                            if number1[-r] == goal[p]: # number1 뒤에서부터 큰수를 가장 작은 수\n",
    "                                number1[-r] = tmp[q] # 교환\n",
    "                                break # 한번 바꾸면 탈출\n",
    "                    for q in range(len(tmp)):\n",
    "                        for r in range(len(number1)):\n",
    "                            if number1[r] == tmp[q]: # 앞자리서 부터 바꿔줄 숫자 찾자\n",
    "                                number1[r] = goal[p] # 교환\n",
    "                                break # 한번 바꾸면 탈출\n",
    "                    try_c += len(tmp) # 교환 시도 횟수 증가\n",
    "                    to_c = make_to_c(number1, goal) # to_c 갱신\n",
    "\n",
    "                            \n",
    "    # 3-2. 나머지               \n",
    "        if try_c == opper:\n",
    "            return number1 # 횟수가 없으므로 그대로 출력\n",
    "        if number1 == goal: # 목표와 같은 숫자가 된다면,\n",
    "            if len(set(number1)) != len(number1): # 중복되는 숫자가 있다면\n",
    "                return number1 # 값이 더 이상 바뀌지 않을 것이다\n",
    "            else :\n",
    "                if (opper - try_c)%2: # 남은 횟수가 홀수면,\n",
    "                    number1[-1], number1[-2] = number1[-2], number1[-1] \n",
    "                    return number1 # 한 번 바꾸고 출력\n",
    "                else:\n",
    "                    return number1 # 짝수면 그대로 출력"
   ]
  },
  {
   "cell_type": "code",
   "execution_count": 66,
   "id": "ce8dee93",
   "metadata": {},
   "outputs": [
    {
     "name": "stdout",
     "output_type": "stream",
     "text": [
      "\n"
     ]
    },
    {
     "ename": "IndexError",
     "evalue": "list index out of range",
     "output_type": "error",
     "traceback": [
      "\u001b[1;31m---------------------------------------------------------------------------\u001b[0m",
      "\u001b[1;31mIndexError\u001b[0m                                Traceback (most recent call last)",
      "Input \u001b[1;32mIn [66]\u001b[0m, in \u001b[0;36m<module>\u001b[1;34m\u001b[0m\n\u001b[0;32m      1\u001b[0m \u001b[38;5;66;03m# 1-2. 입력부\u001b[39;00m\n\u001b[0;32m      2\u001b[0m number \u001b[38;5;241m=\u001b[39m \u001b[38;5;28minput\u001b[39m()\u001b[38;5;241m.\u001b[39msplit() \u001b[38;5;66;03m# 1234 1 => 1234의 숫자를 입력, 1번 교환하여 가장 큰 숫자를 만들자\u001b[39;00m\n\u001b[1;32m----> 3\u001b[0m number_list \u001b[38;5;241m=\u001b[39m \u001b[38;5;28mlist\u001b[39m(\u001b[38;5;28mmap\u001b[39m(\u001b[38;5;28mint\u001b[39m, \u001b[38;5;28mlist\u001b[39m(\u001b[43mnumber\u001b[49m\u001b[43m[\u001b[49m\u001b[38;5;241;43m0\u001b[39;49m\u001b[43m]\u001b[49m))) \u001b[38;5;66;03m# 교환할 숫자\u001b[39;00m\n\u001b[0;32m      4\u001b[0m opper \u001b[38;5;241m=\u001b[39m \u001b[38;5;28mint\u001b[39m(number[\u001b[38;5;241m1\u001b[39m]) \u001b[38;5;66;03m# 교환 가능 횟수\u001b[39;00m\n\u001b[0;32m      5\u001b[0m number1 \u001b[38;5;241m=\u001b[39m number_list[::]\n",
      "\u001b[1;31mIndexError\u001b[0m: list index out of range"
     ]
    }
   ],
   "source": [
    "# 1-2. 입력부\n",
    "number = input().split() # 1234 1 => 1234의 숫자를 입력, 1번 교환하여 가장 큰 숫자를 만들자\n",
    "number_list = list(map(int, list(number[0]))) # 교환할 숫자\n",
    "opper = int(number[1]) # 교환 가능 횟수\n",
    "number1 = number_list[::]\n",
    "number_list.sort(reverse = True)\n",
    "goal = number_list[::] # 목표로할 숫자\n",
    "print(number1,opper,goal)\n",
    "#to_c = [] # 교환이 필요한 숫자들의 리스트\n",
    "#try_c = 0 # 사용한 교환 횟수\n",
    "\n",
    "print(change_num(number1, goal, opper))"
   ]
  },
  {
   "cell_type": "code",
   "execution_count": 70,
   "id": "ea598459",
   "metadata": {},
   "outputs": [
    {
     "name": "stdout",
     "output_type": "stream",
     "text": [
      "2\n",
      "123 1\n",
      "#1 321\n",
      "2445 2\n",
      "#2 5442\n"
     ]
    }
   ],
   "source": [
    "# 입력부\n",
    "r_number = int(input())\n",
    "for p in range(r_number):    \n",
    "    number = input().split() # 1234 1 => 1234의 숫자를 입력, 1번 교환하여 가장 큰 숫자를 만들자\n",
    "    number_list = list(map(int, list(number[0]))) # 교환할 숫자\n",
    "    opper = int(number[1]) # 교환 가능 횟수\n",
    "    number1 = number_list[::]\n",
    "    number_list.sort(reverse = True)\n",
    "    goal = number_list[::] # 목표로할 숫자\n",
    "\n",
    "    result = change_num(number1, goal, opper)\n",
    "    ans = ''.join(list(map(str, result)))\n",
    "    print(f'#{p+1} {ans}')"
   ]
  },
  {
   "cell_type": "code",
   "execution_count": null,
   "id": "d90d1326",
   "metadata": {},
   "outputs": [],
   "source": []
  }
 ],
 "metadata": {
  "kernelspec": {
   "display_name": "Python 3 (ipykernel)",
   "language": "python",
   "name": "python3"
  },
  "language_info": {
   "codemirror_mode": {
    "name": "ipython",
    "version": 3
   },
   "file_extension": ".py",
   "mimetype": "text/x-python",
   "name": "python",
   "nbconvert_exporter": "python",
   "pygments_lexer": "ipython3",
   "version": "3.9.9"
  },
  "toc": {
   "base_numbering": 1,
   "nav_menu": {},
   "number_sections": true,
   "sideBar": true,
   "skip_h1_title": false,
   "title_cell": "Table of Contents",
   "title_sidebar": "Contents",
   "toc_cell": false,
   "toc_position": {},
   "toc_section_display": true,
   "toc_window_display": false
  }
 },
 "nbformat": 4,
 "nbformat_minor": 5
}
