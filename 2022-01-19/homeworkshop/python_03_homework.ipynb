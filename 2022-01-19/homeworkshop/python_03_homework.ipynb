{
 "cells": [
  {
   "cell_type": "code",
   "execution_count": 1,
   "id": "d2fce72a",
   "metadata": {},
   "outputs": [],
   "source": [
    "# 1. Built-in 함수\n",
    "# max(), min(), range(), len(), sum()"
   ]
  },
  {
   "cell_type": "code",
   "execution_count": 17,
   "id": "11fe826d",
   "metadata": {},
   "outputs": [
    {
     "name": "stdout",
     "output_type": "stream",
     "text": [
      "a\n",
      "di\n"
     ]
    }
   ],
   "source": [
    "# 2. 정중앙 문자\n",
    "\n",
    "def get_middle_char(m):\n",
    "    l = 0\n",
    "    for i in m:\n",
    "        l += 1\n",
    "    if l%2:\n",
    "        return m[l//2:l//2 + 1]\n",
    "    else:\n",
    "        return m[l//2 - 1:l//2 + 1]\n",
    "\n",
    "print(get_middle_char('ssafy'))\n",
    "print(get_middle_char('coding'))"
   ]
  },
  {
   "cell_type": "code",
   "execution_count": 20,
   "id": "1521233d",
   "metadata": {},
   "outputs": [
    {
     "name": "stdout",
     "output_type": "stream",
     "text": [
      "현준의 지역은 서울입니다\n",
      "철수의 지역은 대전입니다\n",
      "영희의 지역은 광주입니다\n"
     ]
    }
   ],
   "source": [
    "# 3. 위치 인자와 키워드 인자\n",
    "\n",
    "def ssafy(name, location = '서울'):\n",
    "    print(f'{name}의 지역은 {location}입니다')\n",
    "          \n",
    "# (1)\n",
    "ssafy('현준')\n",
    "\n",
    "# (2)\n",
    "ssafy(location = '대전', name = '철수')\n",
    "\n",
    "# (3)\n",
    "ssafy('영희', location = '광주')\n",
    "\n",
    "# (4)\n",
    "#ssafy(name = '길동', '구미')\n",
    "\n",
    "# (4)번의 경우 키워드 인자 후에 위치 인자를 사용하였기 때문에 오류가 발생한다."
   ]
  },
  {
   "cell_type": "code",
   "execution_count": 21,
   "id": "05ca6668",
   "metadata": {},
   "outputs": [
    {
     "name": "stdout",
     "output_type": "stream",
     "text": [
      "10\n",
      "None\n"
     ]
    }
   ],
   "source": [
    "# 4. 나의 반환값은\n",
    "\n",
    "def my_func(a, b):\n",
    "    c = a + b\n",
    "    print(c)\n",
    "\n",
    "result = my_func(3, 7)\n",
    "print(result)\n",
    "#여기서 result에는 my_func의 반환값이 저장이 될텐데, my_func에는 반환값이 없기 때문에\n",
    "#None, 즉 아무런 값도 저장되어 있지 않다."
   ]
  },
  {
   "cell_type": "code",
   "execution_count": 22,
   "id": "ee405456",
   "metadata": {},
   "outputs": [
    {
     "data": {
      "text/plain": [
       "81.0"
      ]
     },
     "execution_count": 22,
     "metadata": {},
     "output_type": "execute_result"
    }
   ],
   "source": [
    "# 5. 가변 인자 리스트\n",
    "\n",
    "def my_avg(*n):\n",
    "    Hab = 0\n",
    "    l = 0\n",
    "    \n",
    "    for i in n:\n",
    "        Hab += i\n",
    "        l += 1\n",
    "    return Hab/l\n",
    "\n",
    "my_avg(77, 83, 95, 80, 70)\n",
    "        \n",
    "    "
   ]
  },
  {
   "cell_type": "code",
   "execution_count": 23,
   "id": "3e1f3aad",
   "metadata": {},
   "outputs": [],
   "source": [
    "n, m = range(2)"
   ]
  }
 ],
 "metadata": {
  "kernelspec": {
   "display_name": "Python 3 (ipykernel)",
   "language": "python",
   "name": "python3"
  },
  "language_info": {
   "codemirror_mode": {
    "name": "ipython",
    "version": 3
   },
   "file_extension": ".py",
   "mimetype": "text/x-python",
   "name": "python",
   "nbconvert_exporter": "python",
   "pygments_lexer": "ipython3",
   "version": "3.9.9"
  },
  "toc": {
   "base_numbering": 1,
   "nav_menu": {},
   "number_sections": true,
   "sideBar": true,
   "skip_h1_title": false,
   "title_cell": "Table of Contents",
   "title_sidebar": "Contents",
   "toc_cell": false,
   "toc_position": {},
   "toc_section_display": true,
   "toc_window_display": false
  }
 },
 "nbformat": 4,
 "nbformat_minor": 5
}
