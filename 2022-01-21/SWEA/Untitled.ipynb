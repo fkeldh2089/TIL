{
 "cells": [
  {
   "cell_type": "code",
   "execution_count": 8,
   "id": "3e632e4b",
   "metadata": {},
   "outputs": [
    {
     "name": "stdout",
     "output_type": "stream",
     "text": [
      "3\n",
      "SUN\n",
      "#1 7\n",
      "TUE\n",
      "#2 5\n",
      "MON\n",
      "#3 6\n"
     ]
    }
   ],
   "source": [
    "a = int(input())\n",
    "for i in range(a):\n",
    "    s = input()\n",
    "    if s == 'MON':\n",
    "        j = 6\n",
    "    elif s == 'TUE':\n",
    "        j = 5\n",
    "    elif s == 'WED':\n",
    "        j = 4\n",
    "    elif s == 'THU':\n",
    "        j = 3\n",
    "    elif s == 'FRI':\n",
    "        j = 2\n",
    "    elif s == 'SAT':\n",
    "        j = 1\n",
    "    elif s == 'SUN':\n",
    "        j = 7\n",
    "    else :\n",
    "        pass\n",
    "    print(f'#{i+1} {j}')\n",
    "\n",
    "    \n",
    "    "
   ]
  },
  {
   "cell_type": "code",
   "execution_count": 10,
   "id": "f6115890",
   "metadata": {},
   "outputs": [
    {
     "name": "stdout",
     "output_type": "stream",
     "text": [
      "4\n",
      "100\n",
      "#1 1.0*10^2\n",
      "9999\n",
      "#2 1.0*10^4\n",
      "588235\n",
      "#3 5.9*10^5\n",
      "623\n",
      "#4 6.2*10^2\n"
     ]
    }
   ],
   "source": [
    "# 9658. 유효숫자 표기\n",
    "def va(n):\n",
    "    m = str(n)\n",
    "    l = len(m)\n",
    "    \n",
    "    k = n/(10**(l-1))\n",
    " \n",
    "    p = round(k, 1)\n",
    "    \n",
    "    if p == 10.0:\n",
    "        ans = f'1.0*10^{l}'\n",
    "    else :\n",
    "        ans = f'{p}*10^{l-1}'\n",
    "    return ans\n",
    "        \n",
    "a = int(input())\n",
    "for i in range(a):\n",
    "    b = int(input())\n",
    "    print(f'#{i+1} {va(b)}')"
   ]
  },
  {
   "cell_type": "code",
   "execution_count": 11,
   "id": "67ba8e4f",
   "metadata": {},
   "outputs": [
    {
     "name": "stdout",
     "output_type": "stream",
     "text": [
      "3\n"
     ]
    }
   ],
   "source": [
    "# 1244. 최대 상금\n",
    "c = input()\n",
    "def mp(n):\n",
    "    a0 = list(n[0])\n",
    "    a1 = list(n[1])\n",
    "    b = list(map(int,list(a0)))\n",
    "    b.sort(reverse = True) #b는 목표값\n",
    "    for i in range(a1):\n",
    "        if a0[i-1] == b[i-1]:\n",
    "            a0[i-1], b[i-1] = b[i-1], a0[i-1]\n",
    "#진행\n",
    "\n",
    "    \n",
    "    "
   ]
  },
  {
   "cell_type": "code",
   "execution_count": 22,
   "id": "4d6cb45a",
   "metadata": {},
   "outputs": [
    {
     "name": "stdout",
     "output_type": "stream",
     "text": [
      "['1', '3', '2']\n",
      "[1, 3, 2]\n",
      "[3, 2, 1]\n"
     ]
    },
    {
     "ename": "AttributeError",
     "evalue": "'list' object has no attribute 'join'",
     "output_type": "error",
     "traceback": [
      "\u001b[1;31m---------------------------------------------------------------------------\u001b[0m",
      "\u001b[1;31mAttributeError\u001b[0m                            Traceback (most recent call last)",
      "Input \u001b[1;32mIn [22]\u001b[0m, in \u001b[0;36m<module>\u001b[1;34m\u001b[0m\n\u001b[0;32m      5\u001b[0m b\u001b[38;5;241m.\u001b[39msort(reverse \u001b[38;5;241m=\u001b[39m \u001b[38;5;28;01mTrue\u001b[39;00m)\n\u001b[0;32m      6\u001b[0m \u001b[38;5;28mprint\u001b[39m(b)\n\u001b[1;32m----> 7\u001b[0m \u001b[43mb\u001b[49m\u001b[38;5;241;43m.\u001b[39;49m\u001b[43mjoin\u001b[49m\n",
      "\u001b[1;31mAttributeError\u001b[0m: 'list' object has no attribute 'join'"
     ]
    }
   ],
   "source": [
    "a = '132'\n",
    "print(list(a))\n",
    "b = list(map(int,list(a)))\n",
    "print(b)\n",
    "b.sort(reverse = True)\n",
    "print(b)\n"
   ]
  },
  {
   "cell_type": "code",
   "execution_count": null,
   "id": "6b7930c7",
   "metadata": {},
   "outputs": [],
   "source": []
  }
 ],
 "metadata": {
  "kernelspec": {
   "display_name": "Python 3 (ipykernel)",
   "language": "python",
   "name": "python3"
  },
  "language_info": {
   "codemirror_mode": {
    "name": "ipython",
    "version": 3
   },
   "file_extension": ".py",
   "mimetype": "text/x-python",
   "name": "python",
   "nbconvert_exporter": "python",
   "pygments_lexer": "ipython3",
   "version": "3.9.9"
  },
  "toc": {
   "base_numbering": 1,
   "nav_menu": {},
   "number_sections": true,
   "sideBar": true,
   "skip_h1_title": false,
   "title_cell": "Table of Contents",
   "title_sidebar": "Contents",
   "toc_cell": false,
   "toc_position": {},
   "toc_section_display": true,
   "toc_window_display": false
  }
 },
 "nbformat": 4,
 "nbformat_minor": 5
}
