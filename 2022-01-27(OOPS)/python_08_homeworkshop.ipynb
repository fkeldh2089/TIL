{
 "cells": [
  {
   "cell_type": "code",
   "execution_count": 2,
   "id": "84de6a15",
   "metadata": {},
   "outputs": [
    {
     "name": "stdout",
     "output_type": "stream",
     "text": [
      "28.259999999999998\n",
      "18.84\n"
     ]
    }
   ],
   "source": [
    "# 1. Circle instance 만들기\n",
    "class Circle:\n",
    "    pi = 3.14\n",
    "    \n",
    "    def __init__(self, r, x, y):\n",
    "        self.r = r\n",
    "        self.x = x\n",
    "        self.y = y\n",
    "    \n",
    "    def area(self):\n",
    "        return Circle.pi * self.r * self.r\n",
    "    \n",
    "    def circumstance(self):\n",
    "        return 2 * Circle.pi * self.r\n",
    "    \n",
    "    def center(self):\n",
    "        return (self.x, self.y)\n",
    "    \n",
    "c1 = Circle(3, 2, 4)\n",
    "print(c1.area())\n",
    "print(c1.circumstance())"
   ]
  },
  {
   "cell_type": "code",
   "execution_count": 6,
   "id": "bef0d2d9",
   "metadata": {},
   "outputs": [
    {
     "name": "stdout",
     "output_type": "stream",
     "text": [
      "멍멍이! 걷는다!\n",
      "멍멍이! 짖는다!\n",
      "구구! 걷는다!\n",
      "구구! 먹는다!\n",
      "구구! 푸드덕!\n"
     ]
    }
   ],
   "source": [
    "# 2. Dog와 Bird는 Animal 이다.\n",
    "class Animal:\n",
    "    def __init__(self, name):\n",
    "        self.name = name\n",
    "        \n",
    "    def walk(self):\n",
    "        print(f'{self.name}! 걷는다!')\n",
    "        \n",
    "    def eat(self):\n",
    "        print(f'{self.name}! 먹는다!')\n",
    "        \n",
    "        \n",
    "class Dog(Animal):\n",
    "    def __init__(self, name):\n",
    "        self.name = name\n",
    "        \n",
    "    def bark(self):\n",
    "        print(f'{self.name}! 짖는다!')\n",
    "\n",
    "    \n",
    "class Bird(Animal):\n",
    "    def __init__(self, name):\n",
    "        self.name = name\n",
    "    \n",
    "    def fly(self):\n",
    "        print(f'{self.name}! 푸드덕!')\n",
    "        \n",
    "dog = Dog('멍멍이')\n",
    "dog.walk()\n",
    "dog.bark()\n",
    "\n",
    "bird = Bird('구구')\n",
    "bird.walk()\n",
    "bird.eat()\n",
    "bird.fly()"
   ]
  },
  {
   "cell_type": "code",
   "execution_count": 7,
   "id": "5478a513",
   "metadata": {},
   "outputs": [],
   "source": [
    "# 3. 오류의 종류\n",
    "# ZeroDIvisionError : 말 그대로 숫자를 0으로 나눈 경우 발생하는 오류\n",
    "# NameError : namespace 상에 이름이 없는 경우\n",
    "# TypeError : 지원하지 않는 타입일 경우\n",
    "# IndexError : 인덱스가 범위를 벗어나거나 존재하지 않는 경우\n",
    "# KeyError : 해당 키가 없는 경우\n",
    "# ModulNotFounError : 존재하지 않는 모듈을 임포트 한 경우\n",
    "# ImportError : 모듈은 있지만, 존재하지 않는 클래스나 함수를 가져오는 경우"
   ]
  },
  {
   "cell_type": "code",
   "execution_count": 21,
   "id": "702887ee",
   "metadata": {},
   "outputs": [],
   "source": [
    "# 1. 도형 만들기\n",
    "class Rectangle:\n",
    "\n",
    "    def __init__(self, p1, p2):\n",
    "        self.p1 = p1\n",
    "        self.p2 = p2\n",
    "    \n",
    "    def get_area(self):\n",
    "        return (p1.y - p2.y)*(p2.x - p1.x)\n",
    "    \n",
    "    def get_perimeter(self):\n",
    "        return (p1.y - p2.y + p2.x - p1.x) * 2\n",
    "    \n",
    "    def sqare(self):\n",
    "        return (p1.y - p2.y) == (p2.x - p1.x)\n",
    "    \n",
    "    \n",
    "class Point:\n",
    "\n",
    "    def __init__(self, x, y):\n",
    "        self.x = x\n",
    "        self.y = y"
   ]
  },
  {
   "cell_type": "code",
   "execution_count": 23,
   "id": "5a8b376c",
   "metadata": {},
   "outputs": [
    {
     "name": "stdout",
     "output_type": "stream",
     "text": [
      "4\n",
      "8\n",
      "True\n",
      "4\n",
      "8\n",
      "True\n"
     ]
    }
   ],
   "source": [
    "p1 = Point(1, 3)\n",
    "p2 = Point(3, 1)\n",
    "r1 = Rectangle(p1, p2)\n",
    "print(r1.get_area())\n",
    "print(r1.get_perimeter())\n",
    "print(r1.sqare())\n",
    "\n",
    "p3 = (3, 7)\n",
    "p4 = (6, 4)\n",
    "r2 = Rectangle(p3, p4)\n",
    "print(r2.get_area())\n",
    "print(r2.get_perimeter())\n",
    "print(r2.sqare())\n"
   ]
  },
  {
   "cell_type": "code",
   "execution_count": null,
   "id": "757b71e4",
   "metadata": {},
   "outputs": [],
   "source": []
  }
 ],
 "metadata": {
  "kernelspec": {
   "display_name": "Python 3 (ipykernel)",
   "language": "python",
   "name": "python3"
  },
  "language_info": {
   "codemirror_mode": {
    "name": "ipython",
    "version": 3
   },
   "file_extension": ".py",
   "mimetype": "text/x-python",
   "name": "python",
   "nbconvert_exporter": "python",
   "pygments_lexer": "ipython3",
   "version": "3.9.9"
  },
  "toc": {
   "base_numbering": 1,
   "nav_menu": {},
   "number_sections": true,
   "sideBar": true,
   "skip_h1_title": false,
   "title_cell": "Table of Contents",
   "title_sidebar": "Contents",
   "toc_cell": false,
   "toc_position": {},
   "toc_section_display": true,
   "toc_window_display": false
  }
 },
 "nbformat": 4,
 "nbformat_minor": 5
}
