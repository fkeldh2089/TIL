{
 "cells": [
  {
   "cell_type": "code",
   "execution_count": 4,
   "id": "bbe4e30e",
   "metadata": {},
   "outputs": [
    {
     "name": "stdout",
     "output_type": "stream",
     "text": [
      "100\n",
      "1 2 4 5 10 20 25 50 100 "
     ]
    }
   ],
   "source": [
    "# 1. 간단한 N의 약수\n",
    "N = int(input())\n",
    "for i in range(N):\n",
    "    if N%(i+1) == 0:\n",
    "        print(f'{i+1} ',end = '')"
   ]
  },
  {
   "cell_type": "code",
   "execution_count": 23,
   "id": "a1e79c3f",
   "metadata": {},
   "outputs": [
    {
     "name": "stdout",
     "output_type": "stream",
     "text": [
      "정렬 : [11, 22, 23, 24, 24, 25, 31, 38, 49, 49, 51, 52, 60, 60, 61, 63, 64, 65, 66, 67, 68, 69, 71, 72, 80, 80, 83, 85, 87, 90, 94, 96, 99]\n",
      "64\n"
     ]
    }
   ],
   "source": [
    "# 2. 중간값 찾기\n",
    "numbers = [\n",
    "    85, 72, 38, 80, 69, 65, 68, 96, 22, 49, 67, 51, 61, 63, 87, 66, 24, 80, 83, 71, 60, 64, 52, 90, 60, 49, 31, 23, 99, 94, 11, 25, 24\n",
    "]\n",
    "k=1\n",
    "while(k):\n",
    "    for i in range(len(numbers)-1):\n",
    "        if numbers[i] > numbers[i + 1]:\n",
    "            numbers[i], numbers[i + 1] = numbers[i + 1], numbers[i]\n",
    "\n",
    "    for p in range(len(numbers) - 1):\n",
    "        if numbers[p] > numbers[p + 1]:\n",
    "            k = 1\n",
    "            break\n",
    "    else:\n",
    "        k = 0\n",
    "\n",
    "print(f'정렬 : {numbers}')\n",
    "print(numbers[len(numbers)//2])\n"
   ]
  },
  {
   "cell_type": "code",
   "execution_count": 21,
   "id": "7a62c2c0",
   "metadata": {},
   "outputs": [
    {
     "name": "stdout",
     "output_type": "stream",
     "text": [
      "4\n",
      "\n",
      "1\n",
      "12\n",
      "123\n",
      "1234\n"
     ]
    }
   ],
   "source": [
    "# 3. 계단 만들기\n",
    "number = int(input())\n",
    "\n",
    "for i in range(number+1):\n",
    "    for k in range(i):\n",
    "        print(k+1,end='')\n",
    "    print()"
   ]
  }
 ],
 "metadata": {
  "kernelspec": {
   "display_name": "Python 3 (ipykernel)",
   "language": "python",
   "name": "python3"
  },
  "language_info": {
   "codemirror_mode": {
    "name": "ipython",
    "version": 3
   },
   "file_extension": ".py",
   "mimetype": "text/x-python",
   "name": "python",
   "nbconvert_exporter": "python",
   "pygments_lexer": "ipython3",
   "version": "3.9.9"
  },
  "toc": {
   "base_numbering": 1,
   "nav_menu": {},
   "number_sections": true,
   "sideBar": true,
   "skip_h1_title": false,
   "title_cell": "Table of Contents",
   "title_sidebar": "Contents",
   "toc_cell": false,
   "toc_position": {},
   "toc_section_display": true,
   "toc_window_display": false
  }
 },
 "nbformat": 4,
 "nbformat_minor": 5
}
