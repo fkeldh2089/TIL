{
 "cells": [
  {
   "cell_type": "code",
   "execution_count": 11,
   "id": "10e04bb1",
   "metadata": {},
   "outputs": [],
   "source": [
    "# 1. 모음은 몇 개나 있을까?\n",
    "def count_vowels(n): \n",
    "    k = 'aeiou' # 모든 모음을 갖는 문자열 k\n",
    "    ans = 0 # 변수 설정\n",
    "    for i in k: # 모음 하나하나에 대하여\n",
    "        ans += n.count(i) # n이 모음을 갖고 있으면 ans += 1\n",
    "    return ans"
   ]
  },
  {
   "cell_type": "code",
   "execution_count": 13,
   "id": "82dcf550",
   "metadata": {},
   "outputs": [
    {
     "name": "stdout",
     "output_type": "stream",
     "text": [
      "2\n",
      "3\n"
     ]
    }
   ],
   "source": [
    "print(count_vowels('apple'))\n",
    "print(count_vowels('banana'))"
   ]
  },
  {
   "cell_type": "code",
   "execution_count": 27,
   "id": "1ae491ed",
   "metadata": {},
   "outputs": [
    {
     "data": {
      "text/plain": [
       "'straberry'"
      ]
     },
     "execution_count": 27,
     "metadata": {},
     "output_type": "execute_result"
    }
   ],
   "source": [
    "# 2. 문자열 조작\n",
    "st = 'straberry'\n",
    "st.find('k')\n",
    "st.split('r')\n",
    "st.replace('r', 'o', 2)\n",
    "st.strip('')\n",
    "#4번, 특정문자를 지정하지 않아도 오류가 발생하지 않는다. 공백을 제거한다."
   ]
  },
  {
   "cell_type": "code",
   "execution_count": 61,
   "id": "2ef51661",
   "metadata": {},
   "outputs": [],
   "source": [
    "# 3. 정사각형만 만들기\n",
    "def only_square_area(n, m):\n",
    "    ans = []\n",
    "    l0 = 0\n",
    "    #print(l0)\n",
    "    l1 = 0\n",
    "    for i in n: # 각 list의 길이\n",
    "        l0 += 1\n",
    "    for i in m:\n",
    "        l1 += 1\n",
    "\n",
    "    for i in range(0, l0): # 각 리스트가 같은 값을 갖고있으면 곱해서 ans에 추가\n",
    "        #print(n[i])\n",
    "        for k in range(0, l1):\n",
    "            #print(m[k])\n",
    "            if n[i] == m[k]:\n",
    "                ans.append(n[i] * m[k])\n",
    "    tmp = set(ans) # 중복 값 제거\n",
    "    ans = list(tmp)\n",
    "    return ans\n",
    "        "
   ]
  },
  {
   "cell_type": "code",
   "execution_count": 62,
   "id": "e179bb5a",
   "metadata": {},
   "outputs": [
    {
     "data": {
      "text/plain": [
       "[1024, 3025]"
      ]
     },
     "execution_count": 62,
     "metadata": {},
     "output_type": "execute_result"
    }
   ],
   "source": [
    "only_square_area([32, 55, 63], [13, 32, 40, 55])\n"
   ]
  },
  {
   "cell_type": "code",
   "execution_count": 56,
   "id": "3e851f92",
   "metadata": {},
   "outputs": [
    {
     "name": "stdout",
     "output_type": "stream",
     "text": [
      "[32, 63, 55]\n"
     ]
    }
   ],
   "source": [
    "poo = [32, 55, 63, 63]\n",
    "pooo = set(poo)\n",
    "poo = list(pooo)\n",
    "print(poo)"
   ]
  },
  {
   "cell_type": "code",
   "execution_count": 69,
   "id": "69d38ad6",
   "metadata": {},
   "outputs": [],
   "source": [
    "# 1. 평균 점수 구하기\n",
    "def get_dict_avg(n):\n",
    "    sum = 0\n",
    "    l = 0\n",
    "    avg = 0\n",
    "    \n",
    "    for i in n: # 과목 수\n",
    "        l += 1\n",
    "        \n",
    "    for i in n: # 합계\n",
    "        sum += n[i]\n",
    "        \n",
    "    avg = sum / l\n",
    "    return avg"
   ]
  },
  {
   "cell_type": "code",
   "execution_count": 70,
   "id": "f20dfabc",
   "metadata": {},
   "outputs": [
    {
     "data": {
      "text/plain": [
       "85.5"
      ]
     },
     "execution_count": 70,
     "metadata": {},
     "output_type": "execute_result"
    }
   ],
   "source": [
    "get_dict_avg({'python' : 80, 'algorithm' : 90, 'django' : 89, 'web' : 83})"
   ]
  },
  {
   "cell_type": "code",
   "execution_count": 76,
   "id": "b0466a7d",
   "metadata": {},
   "outputs": [],
   "source": [
    "# 2. 혈액형 분류하기\n",
    "def count_blood(n):\n",
    "    so = ['A', 'B', 'O', 'AB'] # 모든 혈액형을 갖는 list\n",
    "    dic = {}\n",
    "    for i in so: # 혈액형에 대하여\n",
    "        dic.update({i : n.count(i)}) # 혈액형과 그 수를 갖는 dictionary를 구성\n",
    "    return dic\n",
    "        "
   ]
  },
  {
   "cell_type": "code",
   "execution_count": 77,
   "id": "9768b3b7",
   "metadata": {},
   "outputs": [
    {
     "data": {
      "text/plain": [
       "{'A': 3, 'B': 3, 'O': 3, 'AB': 3}"
      ]
     },
     "execution_count": 77,
     "metadata": {},
     "output_type": "execute_result"
    }
   ],
   "source": [
    "count_blood(['A', 'B', 'A', 'O', 'AB', 'AB', 'O', 'A', 'B', 'O', 'B', 'AB'])"
   ]
  },
  {
   "cell_type": "code",
   "execution_count": null,
   "id": "5036e0ae",
   "metadata": {},
   "outputs": [],
   "source": []
  }
 ],
 "metadata": {
  "kernelspec": {
   "display_name": "Python 3 (ipykernel)",
   "language": "python",
   "name": "python3"
  },
  "language_info": {
   "codemirror_mode": {
    "name": "ipython",
    "version": 3
   },
   "file_extension": ".py",
   "mimetype": "text/x-python",
   "name": "python",
   "nbconvert_exporter": "python",
   "pygments_lexer": "ipython3",
   "version": "3.9.9"
  },
  "toc": {
   "base_numbering": 1,
   "nav_menu": {},
   "number_sections": true,
   "sideBar": true,
   "skip_h1_title": false,
   "title_cell": "Table of Contents",
   "title_sidebar": "Contents",
   "toc_cell": false,
   "toc_position": {},
   "toc_section_display": true,
   "toc_window_display": false
  }
 },
 "nbformat": 4,
 "nbformat_minor": 5
}
