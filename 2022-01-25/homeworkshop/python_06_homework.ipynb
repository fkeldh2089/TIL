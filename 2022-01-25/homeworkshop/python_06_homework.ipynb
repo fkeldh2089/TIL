{
 "cells": [
  {
   "cell_type": "code",
   "execution_count": 8,
   "id": "03c545b8",
   "metadata": {},
   "outputs": [
    {
     "name": "stdout",
     "output_type": "stream",
     "text": [
      "[1, 3, 2, 5, 7, 10, 16] [1, 2, 3, 5, 7, 10, 16]\n",
      "[1, 2, 3, 5, 7, 10, 16] None\n"
     ]
    },
    {
     "data": {
      "text/plain": [
       "'\\noutput\\n[1, 3, 2, 5, 7, 10, 16] [1, 2, 3, 5, 7, 10, 16]\\n[1, 2, 3, 5, 7, 10, 16] None\\n 위의 코드에서 알 수 있듯이, sorted()의 경우 정렬된 리스트를 반환하고 원본에 변경이 없지만\\n.sort()의 경우 원본을 변경하고, None 값을 반환한다.\\n'"
      ]
     },
     "execution_count": 8,
     "metadata": {},
     "output_type": "execute_result"
    }
   ],
   "source": [
    "# 1. Built-in 함수와 메서드\n",
    "n = [1, 3, 2, 5, 7, 10, 16]\n",
    "n1 = sorted(n)\n",
    "print(n, n1)\n",
    "k = [1, 3, 2, 5, 7, 10, 16]\n",
    "k1 = k.sort()\n",
    "print(k, k1)\n",
    "\"\"\"\n",
    "output\n",
    "[1, 3, 2, 5, 7, 10, 16] [1, 2, 3, 5, 7, 10, 16]\n",
    "[1, 2, 3, 5, 7, 10, 16] None\n",
    " 위의 코드에서 알 수 있듯이, sorted()의 경우 정렬된 리스트를 반환하고 원본에 변경이 없지만\n",
    ".sort()의 경우 원본을 변경하고, None 값을 반환한다.\n",
    "\"\"\""
   ]
  },
  {
   "cell_type": "code",
   "execution_count": 9,
   "id": "5f9781bd",
   "metadata": {},
   "outputs": [
    {
     "name": "stdout",
     "output_type": "stream",
     "text": [
      "['a', 'b', 'c', 'd']\n",
      "['a', 'b', 'c', 'd', 'robot']\n",
      "['a', 'b', 'c', 'd']\n",
      "['a', 'b', 'c', 'd', 'r', 'o', 'b', 'o', 't']\n",
      "['a', 'b', 'c', 'd']\n",
      "['a', 'b', 'c', 'd', 'robot']\n"
     ]
    },
    {
     "data": {
      "text/plain": [
       "\"\\noutput\\n['a', 'b', 'c', 'd']\\n['a', 'b', 'c', 'd', 'robot']\\n['a', 'b', 'c', 'd']\\n['a', 'b', 'c', 'd', 'r', 'o', 'b', 'o', 't']\\n 위의 결과로부터 알 수 있듯이, .append()는 \\n\""
      ]
     },
     "execution_count": 9,
     "metadata": {},
     "output_type": "execute_result"
    }
   ],
   "source": [
    "# 2. .extend()와 .append()의 차이\n",
    "a = ['a', 'b', 'c', 'd']\n",
    "print(a)\n",
    "a.append('robot')\n",
    "print(a)\n",
    "b = ['a', 'b', 'c', 'd']\n",
    "print(b)\n",
    "b.extend('robot')\n",
    "print(b)\n",
    "c = ['a', 'b', 'c', 'd']\n",
    "print(c)\n",
    "c.extend(['robot'])\n",
    "print(c)\n",
    "\"\"\"\n",
    "output\n",
    "['a', 'b', 'c', 'd']\n",
    "['a', 'b', 'c', 'd', 'robot']\n",
    "['a', 'b', 'c', 'd']\n",
    "['a', 'b', 'c', 'd', 'r', 'o', 'b', 'o', 't']\n",
    "['a', 'b', 'c', 'd']\n",
    "['a', 'b', 'c', 'd', 'robot']\n",
    " 위의 결과로부터 알 수 있듯이, .append(x)는 x를 추가하고,\n",
    ".extend(iterable)은 iterable의 항목을 추가한다. \n",
    "\"\"\""
   ]
  },
  {
   "cell_type": "code",
   "execution_count": 16,
   "id": "8edb7a4a",
   "metadata": {},
   "outputs": [
    {
     "name": "stdout",
     "output_type": "stream",
     "text": [
      "[1, 2, 5, 4, 5]\n",
      "[1, 2, 5, 4, 5]\n",
      "True\n"
     ]
    },
    {
     "data": {
      "text/plain": [
       "'\\n결과를 보았을 때, \\n'"
      ]
     },
     "execution_count": 16,
     "metadata": {},
     "output_type": "execute_result"
    }
   ],
   "source": [
    "# 3. 복사가 잘 된건가?\n",
    "a = [1, 2, 3, 4, 5]\n",
    "b = a\n",
    "\n",
    "a[2] = 5\n",
    "\n",
    "print(a)\n",
    "print(b)\n",
    "\n",
    "print(id(a) == id(b))\n",
    "\"\"\"\n",
    "output\n",
    "[1, 2, 5, 4, 5]\n",
    "[1, 2, 5, 4, 5]\n",
    "True\n",
    " 결과를 보았을 때, a[2]를 변경한 것이 b[2]에도 영향을 끼쳐 서로 요소가 같은 것을 볼 수 있다.\n",
    " 그 이유는 id를 비교하였을 때 결과가 True가 나온 것으로 설명할 수 있다.\n",
    " 이는 a와 b가 서로 같은 리스트를 참조하고 있음을 알 수 있다.\n",
    " \n",
    "\"\"\""
   ]
  },
  {
   "cell_type": "code",
   "execution_count": 58,
   "id": "41edd200",
   "metadata": {},
   "outputs": [],
   "source": [
    "# 1. 무엇이 중복일까\n",
    "def duplicated_letters(n):\n",
    "    ans = []\n",
    "    \n",
    "    for i in n: # 반복되는 문자가 있으면 ans에 추가\n",
    "        if n.count(i) > 1:\n",
    "            ans.append(i)\n",
    "    ans = list(set(ans))\n",
    "    return ans"
   ]
  },
  {
   "cell_type": "code",
   "execution_count": 59,
   "id": "e96a90b2",
   "metadata": {},
   "outputs": [
    {
     "name": "stdout",
     "output_type": "stream",
     "text": [
      "['p']\n",
      "['a', 'n']\n"
     ]
    }
   ],
   "source": [
    "print(duplicated_letters('apple'))\n",
    "print(duplicated_letters('banana'))"
   ]
  },
  {
   "cell_type": "code",
   "execution_count": 32,
   "id": "877b05ff",
   "metadata": {},
   "outputs": [],
   "source": [
    "# 2. 소대소대\n",
    "def low_and_up(n):\n",
    "    n0 = n.lower() # 입력되는 문자열 소문자로 초기화\n",
    "    n1 = n0[::2] # 소문자로 쓸 문자\n",
    "    n2 = n0[1::2] # 대문자로 쓸 문자\n",
    "    n2 = n2.upper()\n",
    "    ans = '' # 리턴할 값\n",
    "    l1, l2 = 0, 0 # 길이 넣을 변수\n",
    "    \n",
    "    for i in n1: # 길이 계산\n",
    "        l1 += 1\n",
    "    for i in n2:\n",
    "        l2 += 1\n",
    "    \n",
    "    if l1 == l2: # 만약 길이가 같으면\n",
    "        for i in range(l1): # 돌아가면서 문자열 더해준다.\n",
    "            ans += n1[i]\n",
    "            ans += n2[i]\n",
    "    else : # 길이가 다르면 \n",
    "        for i in range(l2): # 돌아가면서 문자열 더해주고\n",
    "            ans += n1[i]\n",
    "            ans += n2[i]\n",
    "        ans = ans + n1[-1] # 마지막 남은 문자 더해준다.\n",
    "    \n",
    "    return ans\n",
    "    \n",
    "    "
   ]
  },
  {
   "cell_type": "code",
   "execution_count": 33,
   "id": "dc4b7daa",
   "metadata": {},
   "outputs": [
    {
     "name": "stdout",
     "output_type": "stream",
     "text": [
      "aPpLe\n",
      "bAnAnA\n"
     ]
    }
   ],
   "source": [
    "print(low_and_up('apple'))\n",
    "print(low_and_up('banana'))"
   ]
  },
  {
   "cell_type": "code",
   "execution_count": 54,
   "id": "3cb9732e",
   "metadata": {},
   "outputs": [],
   "source": [
    "# 3. 솔로 천국 만들기\n",
    "def lonely(n):\n",
    "    p = 0\n",
    "    k = 0 # 플래그\n",
    "    ans = [] # 리턴할 값\n",
    "    \n",
    "    while(k == 0): # 반복문\n",
    "        ans.append(n[p]) # n[p]의 값을 ans에 추가\n",
    "        n = ''.join(list(map(str, n))) # 문자열로 만들어서\n",
    "        n = n.lstrip(str(n[p])) # n[p]왼쪽에서 부터 없애버리고\n",
    "        n = list(n) # 리스트로 만들고\n",
    "        n =list(map(int, n)) # 다시 구성요소를 int로 변환\n",
    "        if n == []: # 비게 되면 k = 1 로 반복문 끝\n",
    "            k = 1\n",
    "    \n",
    "    return ans"
   ]
  },
  {
   "cell_type": "code",
   "execution_count": 55,
   "id": "82f74a5e",
   "metadata": {},
   "outputs": [
    {
     "name": "stdout",
     "output_type": "stream",
     "text": [
      "[1, 3, 0, 1]\n",
      "[4, 3]\n"
     ]
    }
   ],
   "source": [
    "print(lonely([1, 1, 3, 3, 0, 1, 1]))\n",
    "print(lonely([4, 4, 4, 3, 3]))"
   ]
  },
  {
   "cell_type": "code",
   "execution_count": 48,
   "id": "1f80adec",
   "metadata": {},
   "outputs": [
    {
     "name": "stdout",
     "output_type": "stream",
     "text": [
      "33011\n",
      "['3', '3', '0', '1', '1']\n",
      "[3, 3, 0, 1, 1]\n"
     ]
    }
   ],
   "source": [
    "ko = [1, 1, 3, 3, 0, 1, 1]\n",
    "ko = ''.join(list(map(str, ko)))\n",
    "ko = ko.lstrip('1')\n",
    "print(ko)\n",
    "ko = list(ko)\n",
    "print(ko)\n",
    "ko = list(map(int, ko))\n",
    "print(ko)"
   ]
  },
  {
   "cell_type": "code",
   "execution_count": null,
   "id": "38888c99",
   "metadata": {},
   "outputs": [],
   "source": []
  }
 ],
 "metadata": {
  "kernelspec": {
   "display_name": "Python 3 (ipykernel)",
   "language": "python",
   "name": "python3"
  },
  "language_info": {
   "codemirror_mode": {
    "name": "ipython",
    "version": 3
   },
   "file_extension": ".py",
   "mimetype": "text/x-python",
   "name": "python",
   "nbconvert_exporter": "python",
   "pygments_lexer": "ipython3",
   "version": "3.9.9"
  },
  "toc": {
   "base_numbering": 1,
   "nav_menu": {},
   "number_sections": true,
   "sideBar": true,
   "skip_h1_title": false,
   "title_cell": "Table of Contents",
   "title_sidebar": "Contents",
   "toc_cell": false,
   "toc_position": {},
   "toc_section_display": true,
   "toc_window_display": false
  }
 },
 "nbformat": 4,
 "nbformat_minor": 5
}
