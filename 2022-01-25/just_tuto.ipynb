{
 "cells": [
  {
   "cell_type": "code",
   "execution_count": 17,
   "id": "5481cdac",
   "metadata": {},
   "outputs": [
    {
     "name": "stdout",
     "output_type": "stream",
     "text": [
      "소금물의 농도(%)와 소금물의 양(g)을 입력하십시오:1%500g\n",
      "[1, 500]\n",
      "[[1, 500]]\n"
     ]
    }
   ],
   "source": [
    "\n",
    "a = input('소금물의 농도(%)와 소금물의 양(g)을 입력하십시오:')\n",
    "li = []\n",
    "if a == 'Done':\n",
    "    pass\n",
    "else:\n",
    "    a1 = a.split('%')\n",
    "    a2 = a1[1].rstrip('g')\n",
    "    a1[1] = a2\n",
    "    a1 = list(map(int, a1))\n",
    "    li.append(a1)\n",
    "\n",
    "    print(a1)\n",
    "    print(li)"
   ]
  },
  {
   "cell_type": "code",
   "execution_count": 24,
   "id": "17cd1b42",
   "metadata": {},
   "outputs": [
    {
     "name": "stdout",
     "output_type": "stream",
     "text": [
      "소금물의 농도(%)와 소금물의 양(g)을 입력하십시오:1%400g\n",
      "[1, 400]\n",
      "소금물의 농도(%)와 소금물의 양(g)을 입력하십시오:8%300g\n",
      "[8, 300]\n",
      "소금물의 농도(%)와 소금물의 양(g)을 입력하십시오:Done\n",
      "[8, 300]\n",
      "[[1, 400], [8, 300]]\n",
      "4.0%700.0g\n"
     ]
    }
   ],
   "source": [
    "opp = 0\n",
    "li = []\n",
    "while opp < 5:\n",
    "    a = input('소금물의 농도(%)와 소금물의 양(g)을 입력하십시오:')\n",
    "    \n",
    "    if a == 'Done':\n",
    "        opp += 10\n",
    "    else:\n",
    "        a1 = a.split('%')\n",
    "        a2 = a1[1].rstrip('g')\n",
    "        a1[1] = a2\n",
    "        a1 = list(map(int, a1))\n",
    "        li.append(a1)\n",
    "        opp += 1\n",
    "        \n",
    "    print(a1)\n",
    "print(li)\n",
    "\n",
    "salt = 0\n",
    "water = 0.0\n",
    "ans = 0\n",
    "\n",
    "for i in range(len(li)):\n",
    "    salt += li[i][0]*li[i][1]/100\n",
    "    water += li[i][1]\n",
    "\n",
    "ans = salt/water*100\n",
    "\n",
    "print(f'{ans}%{water}g')\n",
    "    "
   ]
  },
  {
   "cell_type": "code",
   "execution_count": 26,
   "id": "b3bef74f",
   "metadata": {},
   "outputs": [
    {
     "name": "stdout",
     "output_type": "stream",
     "text": [
      "2021년은 윤년이 아닙니다.\n",
      "2020년은 윤년입니다.\n"
     ]
    }
   ],
   "source": [
    "def leap_year(n):\n",
    "    if n % 100 == 0 :\n",
    "        return f'{n}년은 윤년이 아닙니다.'\n",
    "    \n",
    "    elif n % 4 == 0 :\n",
    "        return f'{n}년은 윤년입니다.'\n",
    "\n",
    "    else :\n",
    "        return f'{n}년은 윤년이 아닙니다.'\n",
    "# 빌드가 너무 느리고 안되는 것 같아요,,\n",
    "print(leap_year(2021))\n",
    "print(leap_year(2020))"
   ]
  },
  {
   "cell_type": "code",
   "execution_count": null,
   "id": "e5aa2e0d",
   "metadata": {},
   "outputs": [],
   "source": []
  }
 ],
 "metadata": {
  "kernelspec": {
   "display_name": "Python 3 (ipykernel)",
   "language": "python",
   "name": "python3"
  },
  "language_info": {
   "codemirror_mode": {
    "name": "ipython",
    "version": 3
   },
   "file_extension": ".py",
   "mimetype": "text/x-python",
   "name": "python",
   "nbconvert_exporter": "python",
   "pygments_lexer": "ipython3",
   "version": "3.9.9"
  },
  "toc": {
   "base_numbering": 1,
   "nav_menu": {},
   "number_sections": true,
   "sideBar": true,
   "skip_h1_title": false,
   "title_cell": "Table of Contents",
   "title_sidebar": "Contents",
   "toc_cell": false,
   "toc_position": {},
   "toc_section_display": true,
   "toc_window_display": false
  }
 },
 "nbformat": 4,
 "nbformat_minor": 5
}
