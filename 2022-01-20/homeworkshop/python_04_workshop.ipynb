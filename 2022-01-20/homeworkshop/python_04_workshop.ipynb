{
 "cells": [
  {
   "cell_type": "code",
   "execution_count": 9,
   "id": "530b73b5",
   "metadata": {},
   "outputs": [
    {
     "name": "stdout",
     "output_type": "stream",
     "text": [
      "SsAfY\n"
     ]
    }
   ],
   "source": [
    "# 1. 숫자의 의미\n",
    "\n",
    "def get_secret_word(n):\n",
    "    asc = []\n",
    "    ans = str()\n",
    "    \n",
    "    for i in n:\n",
    "        asc.append(chr(i))\n",
    "    \n",
    "    for i in asc:\n",
    "        ans += i\n",
    "        \n",
    "    return ans\n",
    "\n",
    "print(get_secret_word([83, 115, 65, 102, 89]))"
   ]
  },
  {
   "cell_type": "code",
   "execution_count": 11,
   "id": "8a569043",
   "metadata": {},
   "outputs": [
    {
     "name": "stdout",
     "output_type": "stream",
     "text": [
      "336\n"
     ]
    }
   ],
   "source": [
    "# 2. 내 이름은 몇일까?\n",
    "\n",
    "def get_secret_number(n):\n",
    "    asc = []\n",
    "    ans = 0\n",
    "    \n",
    "    for i in n:\n",
    "        asc.append(ord(i))\n",
    "    \n",
    "    for i in asc:\n",
    "        ans += i\n",
    "    \n",
    "    return ans\n",
    "\n",
    "print(get_secret_number('tom'))\n",
    "    "
   ]
  },
  {
   "cell_type": "code",
   "execution_count": 14,
   "id": "3f2a87e7",
   "metadata": {},
   "outputs": [
    {
     "name": "stdout",
     "output_type": "stream",
     "text": [
      "z\n",
      "john\n"
     ]
    }
   ],
   "source": [
    "# 3. 강한 이름\n",
    "\n",
    "def get_strong_word(a, b):\n",
    "    asc_1 = []\n",
    "    asc_2 = []\n",
    "    ans_1 = 0\n",
    "    ans_2 = 0\n",
    "    \n",
    "    for i in a:\n",
    "        asc_1.append(ord(i))\n",
    "        \n",
    "    for i in b:\n",
    "        asc_2.append(ord(i))\n",
    "    \n",
    "    for i in asc_1:\n",
    "        ans_1 += i\n",
    "    \n",
    "    for i in asc_2:\n",
    "        ans_2 += i\n",
    "        \n",
    "    if ans_1 >= ans_2:\n",
    "        return a\n",
    "    else:\n",
    "        return b\n",
    "    \n",
    "print(get_strong_word('z','a'))\n",
    "print(get_strong_word('tom','john'))"
   ]
  },
  {
   "cell_type": "code",
   "execution_count": null,
   "id": "c703e0e4",
   "metadata": {},
   "outputs": [],
   "source": []
  }
 ],
 "metadata": {
  "kernelspec": {
   "display_name": "Python 3 (ipykernel)",
   "language": "python",
   "name": "python3"
  },
  "language_info": {
   "codemirror_mode": {
    "name": "ipython",
    "version": 3
   },
   "file_extension": ".py",
   "mimetype": "text/x-python",
   "name": "python",
   "nbconvert_exporter": "python",
   "pygments_lexer": "ipython3",
   "version": "3.9.9"
  },
  "toc": {
   "base_numbering": 1,
   "nav_menu": {},
   "number_sections": true,
   "sideBar": true,
   "skip_h1_title": false,
   "title_cell": "Table of Contents",
   "title_sidebar": "Contents",
   "toc_cell": false,
   "toc_position": {},
   "toc_section_display": true,
   "toc_window_display": false
  }
 },
 "nbformat": 4,
 "nbformat_minor": 5
}
