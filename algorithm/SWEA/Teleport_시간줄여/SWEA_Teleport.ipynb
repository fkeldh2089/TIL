{
 "cells": [
  {
   "cell_type": "code",
   "execution_count": 1,
   "id": "a8bd240a",
   "metadata": {},
   "outputs": [
    {
     "name": "stdout",
     "output_type": "stream",
     "text": [
      "1\n",
      "5 2\n",
      "5\n",
      "1\n",
      "4\n",
      "3\n",
      "2\n",
      "[[1, 5], [2, 1], [3, 4], [4, 3], [5, 2]]\n"
     ]
    }
   ],
   "source": [
    "n = int(input()) # 테스트 케이스 반복\n",
    "for test_case in range(n):\n",
    "    nums = input().split() # 별의 갯수와 이동 횟수 입력\n",
    "    nums_list = list(map(int, nums))\n",
    "    Stars = nums_list[0] # 별 갯수 Stars\n",
    "    opper = nums_list[1] # 이동 횟수 opper\n",
    "    tele_map = []\n",
    "    for p in range(Stars):\n",
    "        destination = int(input())\n",
    "        tele_map.append([p+1, destination]) # [출발지, 도착지]리스트 생성\n",
    "\n",
    "print(tele_map)"
   ]
  },
  {
   "cell_type": "code",
   "execution_count": 40,
   "id": "93226f7b",
   "metadata": {},
   "outputs": [],
   "source": [
    "def calc_sum(nums, k):\n",
    "    a = 1\n",
    "    k_c = 0\n",
    "    cnt = 0\n",
    "    ansb = []\n",
    "    sum1 = 0\n",
    "\n",
    "    while cnt < len(nums):\n",
    "        a = cnt + 1\n",
    "        tmp = []\n",
    "        k_c = 0\n",
    "        tmp.append(a)\n",
    "        r = 0\n",
    "        while r < len(nums):\n",
    "            if nums[r][0] == a:\n",
    "                tmp.append(nums[r][1])\n",
    "                a = nums[r][1]\n",
    "                k_c += 1\n",
    "                #print(f'#{cnt+1} {tmp}')\n",
    "                r = 0\n",
    "            else:\n",
    "                r += 1\n",
    "            if k_c == k:\n",
    "                break\n",
    "        b = len(set(tmp))\n",
    "        \n",
    "        cnt += 1\n",
    "        ansb.append(b*cnt)\n",
    "        #print(f'#{cnt} cococo {ansb}')\n",
    "        \n",
    "    for p in ansb:\n",
    "        sum1 += p\n",
    "    return sum1\n",
    "                    "
   ]
  },
  {
   "cell_type": "code",
   "execution_count": 41,
   "id": "a70b473f",
   "metadata": {},
   "outputs": [
    {
     "name": "stdout",
     "output_type": "stream",
     "text": [
      "38\n"
     ]
    }
   ],
   "source": [
    "print(calc_sum(tele_map, opper))"
   ]
  },
  {
   "cell_type": "code",
   "execution_count": 42,
   "id": "36d90a90",
   "metadata": {},
   "outputs": [
    {
     "name": "stdout",
     "output_type": "stream",
     "text": [
      "1\n",
      "5 2\n",
      "5\n",
      "1\n",
      "4\n",
      "3\n",
      "2\n",
      "#1 38\n"
     ]
    }
   ],
   "source": [
    "def calc_sum(nums, k):\n",
    "    a = 1\n",
    "    k_c = 0\n",
    "    cnt = 0\n",
    "    ansb = []\n",
    "    sum1 = 0\n",
    "\n",
    "    while cnt < len(nums):\n",
    "        a = cnt + 1\n",
    "        tmp = []\n",
    "        k_c = 0\n",
    "        tmp.append(a)\n",
    "        r = 0\n",
    "        while r < len(nums):\n",
    "            if nums[r][0] == a:\n",
    "                tmp.append(nums[r][1])\n",
    "                a = nums[r][1]\n",
    "                k_c += 1\n",
    "                #print(f'#{cnt+1} {tmp}')\n",
    "                r = 0\n",
    "            else:\n",
    "                r += 1\n",
    "            if k_c == k:\n",
    "                break\n",
    "        b = len(set(tmp))\n",
    "        \n",
    "        cnt += 1\n",
    "        ansb.append(b*cnt)\n",
    "        #print(f'#{cnt} cococo {ansb}')\n",
    "        \n",
    "    for p in ansb:\n",
    "        sum1 += p\n",
    "    return sum1\n",
    "                    \n",
    "\n",
    "n = int(input()) # 테스트 케이스 반복\n",
    "for test_case in range(n):\n",
    "    nums = input().split() # 별의 갯수와 이동 횟수 입력\n",
    "    nums_list = list(map(int, nums))\n",
    "    Stars = nums_list[0] # 별 갯수 Stars\n",
    "    opper = nums_list[1] # 이동 횟수 opper\n",
    "    tele_map = []\n",
    "    for p in range(Stars):\n",
    "        destination = int(input())\n",
    "        tele_map.append([p+1, destination]) # [출발지, 도착지]리스트 생성 \n",
    "    print(f'#{test_case + 1} {calc_sum(tele_map, opper)}')\n",
    "        \n"
   ]
  },
  {
   "cell_type": "code",
   "execution_count": null,
   "id": "5ad8a2b1",
   "metadata": {},
   "outputs": [],
   "source": []
  }
 ],
 "metadata": {
  "kernelspec": {
   "display_name": "Python 3 (ipykernel)",
   "language": "python",
   "name": "python3"
  },
  "language_info": {
   "codemirror_mode": {
    "name": "ipython",
    "version": 3
   },
   "file_extension": ".py",
   "mimetype": "text/x-python",
   "name": "python",
   "nbconvert_exporter": "python",
   "pygments_lexer": "ipython3",
   "version": "3.9.9"
  },
  "toc": {
   "base_numbering": 1,
   "nav_menu": {},
   "number_sections": true,
   "sideBar": true,
   "skip_h1_title": false,
   "title_cell": "Table of Contents",
   "title_sidebar": "Contents",
   "toc_cell": false,
   "toc_position": {},
   "toc_section_display": true,
   "toc_window_display": false
  }
 },
 "nbformat": 4,
 "nbformat_minor": 5
}
