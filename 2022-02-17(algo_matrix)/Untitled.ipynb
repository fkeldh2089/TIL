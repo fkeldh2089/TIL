{
 "cells": [
  {
   "cell_type": "code",
   "execution_count": 1,
   "id": "93255635",
   "metadata": {},
   "outputs": [],
   "source": [
    "def merge(left, right):\n",
    "    result = []\n",
    "    while len(left) > 0 or len(right) > 0:\n",
    "        if len(left) > 0 and len(right) > 0:\n",
    "            if left[0] <= right[0]:\n",
    "                result.append(left[0])\n",
    "                left = left[1:]\n",
    "            else:\n",
    "                result.append(right[0])\n",
    "                right = right[1:]\n",
    "        elif len(left) > 0:\n",
    "            result.append(left[0])\n",
    "            left = left[1:]\n",
    "        elif len(right) > 0:\n",
    "            result.append(right[0])\n",
    "            right = right[1:]\n",
    "    return result\n",
    "\n",
    "def merge_sort(list):\n",
    "    if len(list) <= 1:\n",
    "        return list\n",
    "    mid = len(list) // 2\n",
    "    leftList = list[:mid]\n",
    "    rightList = list[mid:]\n",
    "    leftList = merge_sort(leftList)\n",
    "    rightList = merge_sort(rightList)\n",
    "    return merge(leftList, rightList)"
   ]
  },
  {
   "cell_type": "code",
   "execution_count": 4,
   "id": "6737aa50",
   "metadata": {},
   "outputs": [
    {
     "name": "stdout",
     "output_type": "stream",
     "text": [
      "[1, 2, 3, 5, 6]\n"
     ]
    }
   ],
   "source": [
    "nums1 = [1, 2, 6]\n",
    "nums2 = [3, 5]\n",
    "print(merge(nums1, nums2))"
   ]
  },
  {
   "cell_type": "code",
   "execution_count": null,
   "id": "44f6d7bf",
   "metadata": {},
   "outputs": [],
   "source": []
  }
 ],
 "metadata": {
  "kernelspec": {
   "display_name": "Python 3 (ipykernel)",
   "language": "python",
   "name": "python3"
  },
  "language_info": {
   "codemirror_mode": {
    "name": "ipython",
    "version": 3
   },
   "file_extension": ".py",
   "mimetype": "text/x-python",
   "name": "python",
   "nbconvert_exporter": "python",
   "pygments_lexer": "ipython3",
   "version": "3.9.9"
  },
  "toc": {
   "base_numbering": 1,
   "nav_menu": {},
   "number_sections": true,
   "sideBar": true,
   "skip_h1_title": false,
   "title_cell": "Table of Contents",
   "title_sidebar": "Contents",
   "toc_cell": false,
   "toc_position": {},
   "toc_section_display": true,
   "toc_window_display": false
  }
 },
 "nbformat": 4,
 "nbformat_minor": 5
}
